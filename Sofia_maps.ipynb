{
 "cells": [
  {
   "cell_type": "code",
   "execution_count": 1,
   "metadata": {
    "collapsed": false
   },
   "outputs": [],
   "source": [
    "import aplpy\n",
    "from astropy import units as u\n",
    "from astropy.io import fits\n",
    "from matplotlib import pylab as plt\n",
    "import pandas as pd\n",
    "dir1 = '/Users/themba/Downloads/SRT/pp1_cublets/'\n",
    "dir2 = '/Volumes/Themba/MSc/SRT_SoFiA/Themba/'\n",
    "dir3 = '/Volumes/Themba/MSc/SRT_SoFiA/Maps/'\n"
   ]
  },
  {
   "cell_type": "code",
   "execution_count": 2,
   "metadata": {
    "collapsed": false
   },
   "outputs": [],
   "source": [
    "SRT  = pd.read_csv('/Users/themba/Documents/MSc/Thesis/Catalogue/FINAL_PRODUCT/sofia_srt_catalog',sep='\\t')"
   ]
  },
  {
   "cell_type": "code",
   "execution_count": 3,
   "metadata": {
    "collapsed": false
   },
   "outputs": [],
   "source": [
    "def MapsG(J,j):\n",
    "    Fig = plt.figure(figsize=(4,3))\n",
    "    ax2 = Fig.add_subplot(111)\n",
    "\n",
    "    din = open(dir2+'pp'+str(J)+'_'+str(j)+'_spec.txt').readlines()\n",
    "    f,vel = [],[]\n",
    "    for x in din[23:]:\n",
    "        x=x.split()\n",
    "        vel.append(float(x[1])*1e-3)\n",
    "        f.append(float(x[2])*1e0)\n",
    "\n",
    "    ax2.plot(vel,f)\n",
    "    ax2.set_xlabel(r'$\\mathrm{V_{hel} \\, [km\\,s^{-1}}]$',fontsize=12)\n",
    "    ax2.set_ylabel(r'$\\mathrm{Flux \\,\\,[mJy\\,beam^{-1}]}$',fontsize=12)\n",
    "    ax2.hlines(0,2e3,17e3,linestyles='--',colors='r')\n",
    "    ax2.set_xlim(vel[0],vel[-1])\n",
    "    plt.ticklabel_format(style='sci', axis='both', scilimits=(0,0))\n",
    "    plt.savefig(dir3+'pp'+str(J)+'_'+str(j)+'_spec.pdf')\n",
    "    #plt.show()\n",
    "    \n",
    "def MapsM(J,j):    \n",
    "    Fig = plt.figure(figsize=(4,3))\n",
    "    fig = aplpy.FITSFigure(dir2+'pp'+str(J)+'_'+str(j)+'_mom0.fits',slices=[0],figure=Fig,subplot=(1,1,1))\n",
    "    fig.show_colorscale(stretch='linear',interpolation='none')\n",
    "    fig.add_colorbar()\n",
    "    fig.colorbar.set_font(size=8)\n",
    "    fig.colorbar.set_axis_label_text(r'$S_\\mathrm{int} \\,\\,[\\mathrm{Jy\\,beam^{-1}\\,km\\,s^{-1}}]$')\n",
    "    fig.colorbar.set_axis_label_font(size=12, weight='bold')\n",
    "    fig.set_axis_labels_font(size=10, weight='bold')\n",
    "    fig.tick_labels.set_xformat('dd.dd')\n",
    "    fig.tick_labels.set_yformat('dd.dd')\n",
    "    #fig.set_tick_labels_size(size=12)\n",
    "    #fig.set_theme('publication')\n",
    "    fig.savefig(dir3+'pp'+str(J)+'_'+str(j)+'_mom0.pdf')\n",
    "    #plt.show()\n"
   ]
  },
  {
   "cell_type": "code",
   "execution_count": 1,
   "metadata": {
    "collapsed": false
   },
   "outputs": [],
   "source": [
    "#for i in range(1,50):\n",
    "#    MapsG(9,i)\n",
    "#    MapsM(9,i)\n",
    "#    print i"
   ]
  },
  {
   "cell_type": "code",
   "execution_count": null,
   "metadata": {
    "collapsed": true
   },
   "outputs": [],
   "source": []
  }
 ],
 "metadata": {
  "kernelspec": {
   "display_name": "Python [default]",
   "language": "python",
   "name": "python2"
  },
  "language_info": {
   "codemirror_mode": {
    "name": "ipython",
    "version": 2
   },
   "file_extension": ".py",
   "mimetype": "text/x-python",
   "name": "python",
   "nbconvert_exporter": "python",
   "pygments_lexer": "ipython2",
   "version": "2.7.13"
  }
 },
 "nbformat": 4,
 "nbformat_minor": 2
}
