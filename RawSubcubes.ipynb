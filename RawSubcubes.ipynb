{
 "cells": [
  {
   "cell_type": "code",
   "execution_count": 1,
   "metadata": {
    "collapsed": false
   },
   "outputs": [],
   "source": [
    "from astropy.io import fits\n",
    "from astropy import wcs, units\n",
    "import numpy as np\n",
    "import pylab as plt \n",
    "#from spectral_cube import SpectralCube\n",
    "from astropy.coordinates import SkyCoord\n",
    "#import aplpy\n",
    "import time\n",
    "%matplotlib inline\n"
   ]
  },
  {
   "cell_type": "code",
   "execution_count": 51,
   "metadata": {
    "collapsed": false
   },
   "outputs": [],
   "source": [
    "cand  = np.loadtxt('/home/themba/Documents/MSc/Thesis/catalogue/ppmos9/ppmos9.txt') #Loads text file with candidates \n",
    "X,Y,Z = cand[:,1], cand[:,2], cand[:,3]                                                 #coordinates.\n",
    "size  = cand.shape[0]\n",
    "\n",
    "\n",
    "hdu = fits.open('/home/themba/Documents/MSc/Thesis/Data/ppmos1/wsrt/ppmosALL_9_kms.fits')\n",
    "Header = hdu[0].header\n",
    "cube = hdu[0].data\n",
    "#data = hdu[0].data\n",
    "#voxel_units =  h['BUNIT'], vel_units = h['CUNIT3']\n",
    "std = np.mean(cube)\n",
    "dv = Header['CDELT3']   #channel width [km/s]\n",
    "\n",
    "dir = '/home/themba/Documents/MSc/Thesis/catalogue/ppmos9/Update/' #directory to save data products.\n",
    "dir1 = '/media/themba/c18d84e6-53eb-44c6-be34-18234c64ea16/MSc/ppmos9/Results/linewidths/'\n",
    "#boundaries of the cube \n",
    "zzl,yyl,xxl = 0.,0.,0.0\n",
    "zzu,yyu,xxu = cube.shape \n",
    "s,v     = 50,100 "
   ]
  },
  {
   "cell_type": "code",
   "execution_count": 52,
   "metadata": {
    "collapsed": true
   },
   "outputs": [],
   "source": [
    "def cublets(z,y,x,k):            #This function extracts subcubes from the origion dataset.\n",
    "    ##cublet boundaries    \n",
    "    Xl,Xu,Yl,Yu,Zl,Zu=0,0,0,0,0,0\n",
    "    #X-axis boundaries\n",
    "    ss=0\n",
    "    Sxu,Sxl = x+s, x - s #sub_cube upper & lower bounds, respectively\n",
    "    Syu,Syl = y+s, y - s\n",
    "    Szu,Szl = z+v, z - v\n",
    "    \n",
    "    \n",
    "    if (Syu <= yyu and Syl >= yyl and Sxu <= xxu and Sxl >= xxl):  # This is for a subcube\n",
    "                                                            #that is contain within the cube\n",
    "        Yu  = Syu\n",
    "        Yl  = Syl\n",
    "        Xu  = Sxu\n",
    "        Xl  = Sxl   \n",
    "    else:\n",
    "    \n",
    "        if Sxu > xxu:\n",
    "            Sxu = xxu - x #half width\n",
    "            Xu  = x+Sxu\n",
    "            Xl  = x-Sxu\n",
    "            \n",
    "            Yu  = y + Sxu\n",
    "            Yl  = y - Sxu\n",
    "        if Sxl < xxl:\n",
    "            Sxl = x-xxl\n",
    "            Xu  = x+Sxl\n",
    "            Xl  = x-Sxl\n",
    "            \n",
    "            Yu  = y + Sxl\n",
    "            Yl  = y - Sxl\n",
    "\n",
    "        #Y-axis boundaries\n",
    "        if Syu > yyu:\n",
    "            Syu = yyu - y\n",
    "            Yu  = y+Syu\n",
    "            Yl  = y-Syu\n",
    "            \n",
    "            Xu  = x + Syu\n",
    "            Xl  = x - Syu\n",
    "            \n",
    "        if Syl < yyl:\n",
    "            Syl = y-yyl\n",
    "            Yu  = y+Syl\n",
    "            Yl  = y-Syl\n",
    "\n",
    "            Xu  = x + Syl\n",
    "            Xl  = x - Syl        \n",
    "        \n",
    "    #Z-axis boundaries\n",
    "    if Szu > zzu:    \n",
    "        Szu = zzu\n",
    "    if Szl < zzl:    \n",
    "        Szl = zzl   \n",
    "            \n",
    "    #if (Szu <= zzu and Szl >= zzl):    \n",
    "    #   Zu = Szu    \n",
    "    #    Zl = Szl  \n",
    "    if Szu <=zzu:\n",
    "        Szu=Szu\n",
    "    if Szl>=zzl:\n",
    "        Szl=Szl\n",
    "    #print Szl,Szu\n",
    "            \n",
    "    sub_cube1 = cube[Szl:Szu,Yl:Yu,Xl:Xu] #cublet\n",
    "    fits.writeto(dir1+'P_'+str(int(X[k]))+':'+str(int(Y[k]))+':'+str(int(Z[k]))+'.fits',\n",
    "                 sub_cube1,overwrite=True) #unmasked "
   ]
  },
  {
   "cell_type": "code",
   "execution_count": 53,
   "metadata": {
    "collapsed": false
   },
   "outputs": [],
   "source": [
    "#header.update({'NAXIS1': 100, 'NAXIS2': 100})\n",
    "Header.set('ctype3', 'velo')\n",
    "w= wcs.WCS(Header)\n",
    "\n",
    "CDELT1 = Header.get('CDELT1')\n",
    "CTYPE1 = Header.get('CTYPE1')\n",
    "CROTA1 = Header.get('CROTA1')\n",
    "CUNIT1 = Header.get('CUNIT1')\n",
    " \n",
    "CDELT2 = Header.get('CDELT2')\n",
    "CTYPE2 = Header.get('CTYPE2')\n",
    "CROTA2 = Header.get('CROTA2')\n",
    "CUNIT2 = Header.get('CUNIT2') \n",
    "\n",
    "CDELT3 = Header.get('CDELT3')\n",
    "CTYPE3 = Header.get('CTYPE3')\n",
    "CROTA3 = Header.get('CROTA3')\n",
    "CUNIT3 = Header.get('CUNIT3')\n",
    "\n",
    "BUNIT  = Header.get('BUNIT')\n",
    "BLANK  = Header.get('BLANK')\n",
    "EPOCH  = Header.get('EPOCH')\n",
    "FREQ0  = Header.get('FREQ0')\n",
    "\n",
    "def headr(cube,x,y,z,t):\n",
    "    #naxis3,naxis2,naxis1 = cube.shape\n",
    "\n",
    "    \n",
    "    #hdu    = fits.open(cube)\n",
    "    data = fits.getdata(cube)\n",
    "    header  = fits.getheader(cube)\n",
    "    dim = data.shape\n",
    "    \n",
    "    crval1,crval2,crval3 = w.all_pix2world(x,y,z,0)\n",
    "    zz,yy,xx = data.shape\n",
    "    \n",
    "    header.insert('EXTEND ', ('CDELT1', CDELT1), after=True)\n",
    "    header.insert('CDELT1 ', ('CROTA1', CROTA1), after=True)\n",
    "    header.insert('CROTA1 ', ('CRPIX1', 0.5*xx), after=True)\n",
    "    header.insert('CRPIX1 ', ('CRVAL1', crval1[()]), after=True)\n",
    "    header.insert('CRVAL1 ', ('CTYPE1', CTYPE1), after=True)\n",
    "    header.insert('CTYPE1 ', ('CUNIT1', CUNIT1), after=True)\n",
    "    \n",
    "    header.insert('CUNIT1 ', ('CDELT2', CDELT2), after=True)\n",
    "    header.insert('CDELT2 ', ('CROTA2', CROTA2), after=True)\n",
    "    header.insert('CROTA2 ', ('CRPIX2', 0.5*yy), after=True)\n",
    "    header.insert('CRPIX2 ', ('CRVAL2', crval2[()]), after=True)\n",
    "    header.insert('CRVAL2 ', ('CTYPE2', CTYPE2), after=True)\n",
    "    header.insert('CTYPE2 ', ('CUNIT2', CUNIT2), after=True)    \n",
    "    header['BPA']=0.11\n",
    "    header['BMAJ']=6.4913E-03\n",
    "    header['BMIN']=4.6136E-03\n",
    "    \n",
    "    if t==1:\n",
    "        header.insert('CUNIT2 ', ('CDELT3', CDELT3*1e3), after=True)\n",
    "        header.insert('CDELT3 ', ('CROTA3', CROTA3), after=True)\n",
    "        header.insert('CROTA3 ', ('CRPIX3', 0.5*zz), after=True)\n",
    "        header.insert('CRPIX3 ', ('CRVAL3', crval3[()]*1e3), after=True)\n",
    "        header.insert('CRVAL3 ', ('CTYPE3', \"VELO-HEL\"), after=True)\n",
    "        header.insert('CTYPE3 ', ('CUNIT3', \"m/s\"), after=True)\n",
    "           \n",
    "        header.insert('CUNIT3 ', ('BLANK', BLANK), after=True)\n",
    "        header.insert('BLANK ', ('BUNIT', BUNIT), after=True) \n",
    "        header.insert('BUNIT ', ('EPOCH', EPOCH), after=True)\n",
    "        header.insert('EPOCH ', ('RESTFREQ', FREQ0), after=True)\n",
    "        fits.writeto(filename=cube,data=data,header=header,clobber=True) \n",
    "    elif t==0:\n",
    "        header.insert('CUNIT2 ', ('BUNIT', 'Jy/beam m/s'), after=True)\n",
    "        header.insert('BUNIT ', ('EPOCH', EPOCH), after=True)\n",
    "        header.insert('EPOCH ', ('RESTFREQ', FREQ0), after=True)\n",
    "        fits.writeto(filename=cube,data=data,header=header,overwrite=True)"
   ]
  },
  {
   "cell_type": "code",
   "execution_count": 54,
   "metadata": {
    "collapsed": false,
    "scrolled": true
   },
   "outputs": [
    {
     "name": "stderr",
     "output_type": "stream",
     "text": [
      "/home/themba/anaconda2/lib/python2.7/site-packages/ipykernel/__main__.py:66: VisibleDeprecationWarning: using a non-integer number instead of an integer will result in an error in the future\n"
     ]
    }
   ],
   "source": [
    "for i in range(size): #creating subcubes\n",
    "    cublets(Z[i],Y[i],X[i],i)"
   ]
  },
  {
   "cell_type": "code",
   "execution_count": 55,
   "metadata": {
    "collapsed": false
   },
   "outputs": [],
   "source": [
    "#Updatigng headers\n",
    "for k in range(size):\n",
    "    headr(dir1+'P_'+str(int(X[k]))+':'+str(int(Y[k]))+':'+str(int(Z[k]))+'.fits',\n",
    "          X[k],Y[k],Z[k],1) #cube header"
   ]
  },
  {
   "cell_type": "code",
   "execution_count": null,
   "metadata": {
    "collapsed": true
   },
   "outputs": [],
   "source": []
  },
  {
   "cell_type": "code",
   "execution_count": null,
   "metadata": {
    "collapsed": true
   },
   "outputs": [],
   "source": []
  }
 ],
 "metadata": {
  "anaconda-cloud": {},
  "kernelspec": {
   "display_name": "Python [conda root]",
   "language": "python",
   "name": "conda-root-py"
  },
  "language_info": {
   "codemirror_mode": {
    "name": "ipython",
    "version": 2
   },
   "file_extension": ".py",
   "mimetype": "text/x-python",
   "name": "python",
   "nbconvert_exporter": "python",
   "pygments_lexer": "ipython2",
   "version": "2.7.13"
  }
 },
 "nbformat": 4,
 "nbformat_minor": 1
}
