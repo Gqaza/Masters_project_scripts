{
 "cells": [
  {
   "cell_type": "code",
   "execution_count": 1,
   "metadata": {
    "collapsed": true
   },
   "outputs": [],
   "source": [
    "#0 import some functions\n",
    "from astropy.io import fits\n",
    "from astropy.coordinates import SkyCoord\n",
    "from astropy import units as u\n",
    "from numpy import median,mean, std, histogram, arange, exp, zeros, ones, array, unique\n",
    "from matplotlib import pyplot as plt\n",
    "from scipy.optimize import curve_fit\n",
    "from scipy.ndimage.filters import gaussian_filter, uniform_filter1d\n",
    "from scipy.ndimage.measurements import label\n",
    "import numpy as np\n",
    "from astropy import wcs\n",
    "from scipy.special import erf\n",
    "from math import sqrt, log, sin, cos, asin, atan2, degrees, radians, pi\n",
    "from astropy.table import Table, Column\n",
    "import pandas as pd"
   ]
  },
  {
   "cell_type": "code",
   "execution_count": 2,
   "metadata": {
    "collapsed": false
   },
   "outputs": [
    {
     "name": "stdout",
     "output_type": "stream",
     "text": [
      "busy with ppmos= 1\n"
     ]
    },
    {
     "name": "stderr",
     "output_type": "stream",
     "text": [
      "WARNING: VerifyWarning: Invalid 'BLANK' keyword in header.  The 'BLANK' keyword is only applicable to integer data, and will be ignored in this HDU. [astropy.io.fits.hdu.image]\n",
      "/Users/themba/anaconda2/lib/python2.7/site-packages/scipy/optimize/minpack.py:779: OptimizeWarning: Covariance of the parameters could not be estimated\n",
      "  category=OptimizeWarning)\n",
      "WARNING: FITSFixedWarning: 'unitfix' made the change 'Changed units: 'DEGREE' -> 'deg', 'DEGREE' -> 'deg''. [astropy.wcs.wcs]\n",
      "WARNING: FITSFixedWarning: 'spcfix' made the change 'Changed CTYPE3 from 'VELO-HEL' to 'VOPT', and SPECSYS to 'BARYCENT''. [astropy.wcs.wcs]\n"
     ]
    },
    {
     "name": "stdout",
     "output_type": "stream",
     "text": [
      "source # 1 and nf= 1\n",
      "source # 2 and nf= 1\n",
      "FINISHED\n"
     ]
    }
   ],
   "source": [
    "for j in range(1,10):\n",
    "    print \"busy with ppmos=\",j\n",
    "    dir1 = \"/Volumes/THEMBA/Real/ppmos\"+str(j)+\"/\"\n",
    "    dir3 = dir1+\"linewidths/\"\n",
    "    tafile = open(dir3+\"pp\"+str(j)+\"_table\",\"w\")\n",
    "    tafile.write(\"N0. Source Name      Source ID                 l         b          V_cen\\n\")\n",
    "    f = open(dir1+\"original_files\",\"r\")\n",
    "    \n",
    "    cube_names = []\n",
    "    gim = 1\n",
    "    for line in f:\n",
    "        x0   = str(line.split()[0])\n",
    "        x_name    = str(x0)+'.fits'\n",
    "        header  = fits.getheader(dir1+x_name)\n",
    "        cube = fits.getdata(dir1+x_name)\n",
    "        \n",
    "        rmsSTD = std(cube)\n",
    "        #2.4 Fit of negative part of the noise distribution\n",
    "        def GaussianNoise(F,N0,s0):\n",
    "            return N0*exp(-F**2/2/s0**2)        \n",
    "        \n",
    "        def rmsFit(Cube):\n",
    "            ## Make histogram of voxel values in the cube\n",
    "            binEdges      = arange(Cube.min(),abs(cube.min())/1000,abs(cube.min())/1000)\n",
    "            bins          = (binEdges[1:]+binEdges[:-1])/2\n",
    "            hist,binEdges = histogram(Cube, bins=binEdges)\n",
    "            ## Fit histogram\n",
    "            p0=[hist.max(),-bins[hist<hist.max()/2].max()*2/2.355]\n",
    "            return curve_fit(GaussianNoise,hist,bins,p0=p0)[0][1]\n",
    "        \n",
    "    \n",
    "        \n",
    "        #3 Detection of voxels that contain signal\n",
    "        #3.1 define kernel sizes for spatial \n",
    "        # and spectral smoothing & mask (initially empty)\n",
    "        kernelsSpat = [0,3,6]\n",
    "        kernelsSpec  = [0,3,7,15]\n",
    "        mask = zeros(cube.shape)\n",
    "        \n",
    "        for kSpat in kernelsSpat:\n",
    "            for kSpec in kernelsSpec:\n",
    "                #print 'smoothing with kernel of size: [',kSpat,',',kSpat,',',kSpec,']'\n",
    "                ### spatial smoothing\n",
    "                smoothedCube = gaussian_filter(cube,[0,kSpat/2.355,kSpat/2.355],mode='constant')\n",
    "                ### spectral smoothing\n",
    "                if kSpec!=0:\n",
    "                    smoothedCube = uniform_filter1d(smoothedCube,kSpec,axis=0,mode='constant')\n",
    "                ### estimate noise for the smoothed cube\n",
    "                rms = rmsFit(smoothedCube)\n",
    "                ### add pixels above 3 sigma limit to mask\n",
    "                #mask[smoothedCube>2.8*rms] = 1\n",
    "                mask[smoothedCube>0] = 1 #raw image\n",
    "                \n",
    "        #4 Group identified voxels into sources\n",
    "        maskIDs = label(mask)[0]\n",
    "        \n",
    "        #5 remove smaller detections and relabel sources\n",
    "        counter = 1\n",
    "        for ID in unique(maskIDs)[1:]:\n",
    "            #remove all \"islands\" with #voxels<500\n",
    "            if (maskIDs[maskIDs==ID].sum())/ID<1700:\n",
    "                maskIDs[maskIDs==ID] = 0\n",
    "            else:\n",
    "                # assign a new ID to remaining sources\n",
    "                maskIDs[maskIDs==ID] = counter\n",
    "                counter+=1\n",
    "        #fits.writeto(dir+'themba_msk.fits',maskIDs,clobber=True) #masked\n",
    "\n",
    "        labeled_array, num_features = label(maskIDs)\n",
    "        nf=num_features\n",
    "        \n",
    "        data = cube     #cube data\n",
    "        mask = maskIDs  #masked cube\n",
    "        nz, ny, nx = data.shape  # read cube dimensions\n",
    "        Centroid = []\n",
    "        Sum_flux = []\n",
    "        for i in range(1,nf+1):\n",
    "            centroid = [0.0, 0.0, 0.0]\n",
    "            sum_flux = 0.0\n",
    "            for x in range(nx):\n",
    "                for y in range(ny):\n",
    "                    for z in range(nz):\n",
    "                        if mask[z][y][x] == i:\n",
    "                            flux = data[z][y][x]\n",
    "                            centroid[0] += flux * float(x)\n",
    "                            centroid[1] += flux * float(y)\n",
    "                            centroid[2] += flux * float(z)\n",
    "                            sum_flux += flux\n",
    "\n",
    "            centroid[0] /= sum_flux\n",
    "            centroid[1] /= sum_flux\n",
    "            centroid[2] /= sum_flux\n",
    "            Centroid.append(centroid)\n",
    "            Sum_flux.append(sum_flux)\n",
    "            #print \"for source #\"+str(i)+\", Flux Centroid : \" + str(centroid[0]) + \", \" + str(centroid[1]) + \", \" + str(centroid[2])+\". Flux sum =\"+str(sum_flux)      \n",
    "            \n",
    "        # Convert position to WCS coordinates\n",
    "        RA,Dec,Vel = [],[],[]\n",
    "        wcshead = wcs.WCS(header)\n",
    "        for i in range(nf):\n",
    "            coordinates = wcshead.wcs_pix2world(Centroid[i][0], Centroid[i][1], Centroid[i][2], 0)\n",
    "            ra = coordinates[0]\n",
    "            dec = coordinates[1]\n",
    "            vel = coordinates[2]*1e-3\n",
    "\n",
    "            RA.append(ra)\n",
    "            Dec.append(dec)\n",
    "            Vel.append(vel)\n",
    "\n",
    "            #print '--------------------------------------------------------------------------------------'\n",
    "            #print \"coord of source #1, \"+str((RA[0],Dec[0],Vel[0]))\n",
    "    \n",
    "\n",
    "        # TASK 3\n",
    "        # Convert from J2000 to Galactic coordinates\n",
    "        Glat,Glon = [], []\n",
    "        for i in range(nf):\n",
    "            ra0 = radians(192.8595)\n",
    "            dec0 = radians(27.1284)\n",
    "            gl0 = radians(122.9320)\n",
    "            glat = asin(sin(radians(Dec[i])) * sin(dec0) + cos(radians(Dec[i])) * cos(dec0) * cos(radians(RA[i]) - ra0))\n",
    "            glon = gl0 - atan2(cos(radians(Dec[i])) * sin(radians(RA[i]) - ra0), sin(radians(Dec[i])) * cos(dec0) - cos(radians(Dec[i])) * sin(dec0) * cos(radians(RA[i]) - ra0))\n",
    "            Glat.append(degrees(glat))\n",
    "            Glon.append(degrees(glon))\n",
    "        \n",
    "        # Write functions that will convert RA [deg] >> RA [hm] & Dec [deg] >> Dec [dm]\n",
    "        # Note you can change the ticks on the plots {from degrees to h:m & d:m} by replacing C1 & C2 by c1 & c2 respectively\n",
    "        def hms(f):\n",
    "            H = f/15.\n",
    "            h = int(H)\n",
    "            m = int((H-h)*60)\n",
    "            s =round((((H-h)*60 - m)*60),2)\n",
    "            return h,m,s\n",
    "    \n",
    "        def dms(f):\n",
    "            d = int(f)\n",
    "            m = int((f - d)*60.)\n",
    "            s = round(((f - d)*60. - m)*60,1)\n",
    "            return d, m,s\n",
    "        # Apply above convertion\n",
    "        RA_hms,Dec_dms = [],[]\n",
    "        print \"source #\",gim,\"and nf=\",nf\n",
    "        for i in range(nf):\n",
    "            RA_hms.append(str(hms(RA[i])[0])+':'+str(hms(RA[i])[1])+':'+str(hms(RA[i])[2]))\n",
    "            Dec_dms.append(str(dms(Dec[i])[0])+':'+str(dms(Dec[i])[1])+':'+str(dms(Dec[i])[2]))\n",
    "        \n",
    "        tafile.write(str(gim)+\"     \"+x0+\"    \"+RA_hms[0]+ \"+\"+Dec_dms[0]+ \"    \"\n",
    "               +str(round(degrees(glon),3))+ \"    \" + str(round(degrees(glat),3))+\n",
    "            \"   \"+ str(int(round(vel)))+\"\\n\")\n",
    "        gim = gim +1\n",
    "    tafile.close()\n",
    "    \n",
    "print \"FINISHED\"       "
   ]
  },
  {
   "cell_type": "code",
   "execution_count": 10,
   "metadata": {
    "collapsed": false,
    "scrolled": true
   },
   "outputs": [
    {
     "name": "stdout",
     "output_type": "stream",
     "text": [
      "Source Name    Source ID   RA    Dec   l    b    V_cen\n"
     ]
    }
   ],
   "source": []
  },
  {
   "cell_type": "code",
   "execution_count": 24,
   "metadata": {
    "collapsed": false
   },
   "outputs": [
    {
     "data": {
      "text/plain": [
       "file"
      ]
     },
     "execution_count": 24,
     "metadata": {},
     "output_type": "execute_result"
    }
   ],
   "source": []
  },
  {
   "cell_type": "code",
   "execution_count": null,
   "metadata": {
    "collapsed": true
   },
   "outputs": [],
   "source": []
  }
 ],
 "metadata": {
  "kernelspec": {
   "display_name": "Python 2",
   "language": "python",
   "name": "python2"
  },
  "language_info": {
   "codemirror_mode": {
    "name": "ipython",
    "version": 2
   },
   "file_extension": ".py",
   "mimetype": "text/x-python",
   "name": "python",
   "nbconvert_exporter": "python",
   "pygments_lexer": "ipython2",
   "version": "2.7.13"
  }
 },
 "nbformat": 4,
 "nbformat_minor": 2
}
