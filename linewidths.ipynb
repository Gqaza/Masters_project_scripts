{
 "cells": [
  {
   "cell_type": "code",
   "execution_count": 1,
   "metadata": {
    "collapsed": true
   },
   "outputs": [],
   "source": [
    "import pylab as plt\n",
    "import numpy as np\n",
    "get_ipython().magic(u'matplotlib inline')\n"
   ]
  },
  {
   "cell_type": "code",
   "execution_count": 2,
   "metadata": {
    "collapsed": true
   },
   "outputs": [],
   "source": [
    "dir1 = \"/home/themba/Documents/MSc/Thesis/catalogue/ppmos6/Update/\"\n",
    "dir2 = '/media/themba/c18d84e6-53eb-44c6-be34-18234c64ea16/MSc/ppmos6/Results/'\n",
    "dir3 = dir2+'linewidths/'\n",
    "f = open(dir1+\"original_files\",\"r\")\n",
    "cube_names = []\n",
    "for line in f:\n",
    "    x0 = str(line.split()[0])\n",
    "    cube_names.append(str(x0))"
   ]
  },
  {
   "cell_type": "code",
   "execution_count": 7,
   "metadata": {
    "collapsed": false,
    "scrolled": false
   },
   "outputs": [
    {
     "name": "stdout",
     "output_type": "stream",
     "text": [
      "No.   Source-Id       SnR1   SnR2   V50_sys   V20_sys       W_20   W_20    Flux_int\n",
      "20     P_71:382:262  18.67  7.96    4645.969  4647.508     60.75  87.36  0.246\n"
     ]
    },
    {
     "ename": "IOError",
     "evalue": "[Errno 2] No such file or directory: '/media/themba/c18d84e6-53eb-44c6-be34-18234c64ea16/MSc/ppmos6/Results/linewidths/Data_P_6:24:310.txt'",
     "output_type": "error",
     "traceback": [
      "\u001b[0;31m---------------------------------------------------------------------------\u001b[0m",
      "\u001b[0;31mIOError\u001b[0m                                   Traceback (most recent call last)",
      "\u001b[0;32m<ipython-input-7-47eff308a627>\u001b[0m in \u001b[0;36m<module>\u001b[0;34m()\u001b[0m\n\u001b[1;32m      5\u001b[0m \u001b[0;32mfor\u001b[0m \u001b[0mi\u001b[0m \u001b[0;32min\u001b[0m \u001b[0mrange\u001b[0m\u001b[0;34m(\u001b[0m\u001b[0;36m20\u001b[0m\u001b[0;34m,\u001b[0m\u001b[0mn\u001b[0m\u001b[0;34m)\u001b[0m\u001b[0;34m:\u001b[0m\u001b[0;34m\u001b[0m\u001b[0m\n\u001b[1;32m      6\u001b[0m     \u001b[0mx\u001b[0m \u001b[0;34m=\u001b[0m \u001b[0mcube_names\u001b[0m\u001b[0;34m[\u001b[0m\u001b[0mi\u001b[0m\u001b[0;34m]\u001b[0m\u001b[0;34m\u001b[0m\u001b[0m\n\u001b[0;32m----> 7\u001b[0;31m     \u001b[0mdata\u001b[0m \u001b[0;34m=\u001b[0m \u001b[0mopen\u001b[0m\u001b[0;34m(\u001b[0m\u001b[0mdir3\u001b[0m\u001b[0;34m+\u001b[0m\u001b[0;34m'Data_'\u001b[0m\u001b[0;34m+\u001b[0m\u001b[0mx\u001b[0m\u001b[0;34m+\u001b[0m\u001b[0;34m'.txt'\u001b[0m\u001b[0;34m,\u001b[0m\u001b[0;34m'r'\u001b[0m\u001b[0;34m)\u001b[0m\u001b[0;34m.\u001b[0m\u001b[0mreadlines\u001b[0m\u001b[0;34m(\u001b[0m\u001b[0;34m)\u001b[0m\u001b[0;34m\u001b[0m\u001b[0m\n\u001b[0m\u001b[1;32m      8\u001b[0m     \u001b[0mj\u001b[0m\u001b[0;34m=\u001b[0m\u001b[0mdata\u001b[0m\u001b[0;34m[\u001b[0m\u001b[0;36m0\u001b[0m\u001b[0;34m]\u001b[0m\u001b[0;34m.\u001b[0m\u001b[0msplit\u001b[0m\u001b[0;34m(\u001b[0m\u001b[0;34m'\\n'\u001b[0m\u001b[0;34m)\u001b[0m\u001b[0;34m\u001b[0m\u001b[0m\n\u001b[1;32m      9\u001b[0m \u001b[0;34m\u001b[0m\u001b[0m\n",
      "\u001b[0;31mIOError\u001b[0m: [Errno 2] No such file or directory: '/media/themba/c18d84e6-53eb-44c6-be34-18234c64ea16/MSc/ppmos6/Results/linewidths/Data_P_6:24:310.txt'"
     ]
    }
   ],
   "source": [
    "\n",
    "print(\"No.   \"+'Source-Id'+'      '+\" SnR1\"+\"  \"+\" SnR2\"+\"   \"+\"V50_sys   V20_sys\"+\n",
    "   \"       W_20   W_20    Flux_int\")\n",
    "n=len(cube_names)\n",
    "for i in range(20,n):\n",
    "    x = cube_names[i]\n",
    "    data = open(dir3+'Data_'+x+'.txt','r').readlines()\n",
    "    j=data[0].split('\\n')\n",
    "    \n",
    "    m=data[7].split('\\n') #peak S/N ration\n",
    "    SnR1=float(m[0].split('=')[1])\n",
    "    #print 'SnR1=',SnR1\n",
    "\n",
    "    mm=data[11].split('\\n') #peak S/N ration\n",
    "    SnR2=float(mm[0].split('=')[1]) #robust SNR\n",
    "    #print 'SnR2=',SnR2\n",
    "    \n",
    "    ##Moment \n",
    "    #m=data[10].split('\\n') #Integrated flux\n",
    "    #flux_int=m[0].split('       ')\n",
    "    #flux_mom0=float(flux_int[2])    #integrated flux [Jy/beam]\n",
    "    #flux_mom1=float(flux_int[3])    #Flux waited [km/s]\n",
    "    #flux_mom2=float(flux_int[4])    #Dispersion [km/s]\n",
    "    #flux_mom0,flux_mom1,flux_mom2\n",
    "    \n",
    "    #Robust Moment \n",
    "    m=data[13].split('\\n') #Integrated flux\n",
    "    flux_int=m[0].split('       ')\n",
    "    flux_mom0=float(flux_int[2])    #integrated flux [Jy/beam km/s]\n",
    "    flux_mom1=float(flux_int[3])    #Flux waited [km/s]\n",
    "    flux_mom2=float(flux_int[4])    #Dispersion [km/s]\n",
    "    #flux_mom0,flux_mom1,flux_mom2\n",
    "    \n",
    "    # Line width measurements: Width maximiser\n",
    "    m=data[18].split('\\n')      #Systemic velocity\n",
    "    vel=m[0].split('     ')\n",
    "    vel_50=float(vel[1])       #50% line center velocity\n",
    "    vel_20=float(vel[2])       #20% line center velocity\n",
    "    #print \"Central velocity:\", vel_50,' and ',vel_20, ' km/s'\n",
    "\n",
    "    # Line widths\n",
    "    m=data[19].split('\\n')         #line widths\n",
    "    line_W=m[0].split('      ')\n",
    "    W_50=float(line_W[1])          #W_20\n",
    "    W_20=float(line_W[2])          #W_20\n",
    "    #print \"line widths:\", W_50,' and ',W_20, ' km/s'\n",
    "    \n",
    "    ## Line width measurements: Width manimiser\n",
    "    #m=data[24].split('\\n')      #Systemic velocity\n",
    "    #vel=m[0].split('     ')\n",
    "    #vel_50=float(vel[1])       #50% line center velocity\n",
    "    #vel_20=float(vel[2])       #20% line center velocity\n",
    "    #print \"Central velocity:\", vel_50,' and ',vel_20, ' km/s'\n",
    "    ## Line widths\n",
    "    ##m=data[25].split('\\n')         #line widths\n",
    "    #line_W=m[0].split('         ')\n",
    "    #W_50=float(line_W[1])          #W_20\n",
    "    #W_20=float(line_W[2])          #W_20\n",
    "    #print \"line widths:\", W_50,' and ',W_20, ' km/s'\n",
    "    \n",
    "    print(str(i)+'     '+x+'  '+str(SnR1)+\"  \"+str(SnR2)+\"    \"+str(vel_50)+\"  \"+str(vel_20)+\n",
    "          \"     \"+str(W_50)+\"  \"+str(W_20)+\"  \"+str(flux_mom0))\n",
    "    #print SnR2"
   ]
  },
  {
   "cell_type": "code",
   "execution_count": 280,
   "metadata": {
    "collapsed": false
   },
   "outputs": [
    {
     "data": {
      "text/plain": [
       "'P_413:568:315'"
      ]
     },
     "execution_count": 280,
     "metadata": {},
     "output_type": "execute_result"
    }
   ],
   "source": [
    "cube_names[9]"
   ]
  },
  {
   "cell_type": "code",
   "execution_count": null,
   "metadata": {
    "collapsed": true
   },
   "outputs": [],
   "source": []
  }
 ],
 "metadata": {
  "kernelspec": {
   "display_name": "Python [conda root]",
   "language": "python",
   "name": "conda-root-py"
  },
  "language_info": {
   "codemirror_mode": {
    "name": "ipython",
    "version": 2
   },
   "file_extension": ".py",
   "mimetype": "text/x-python",
   "name": "python",
   "nbconvert_exporter": "python",
   "pygments_lexer": "ipython2",
   "version": "2.7.13"
  }
 },
 "nbformat": 4,
 "nbformat_minor": 2
}
