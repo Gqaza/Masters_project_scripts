{
 "cells": [
  {
   "cell_type": "code",
   "execution_count": 1,
   "metadata": {
    "collapsed": true
   },
   "outputs": [],
   "source": [
    "import pylab as plt\n",
    "import numpy as np\n",
    "get_ipython().magic(u'matplotlib inline')\n"
   ]
  },
  {
   "cell_type": "code",
   "execution_count": 24,
   "metadata": {
    "collapsed": false
   },
   "outputs": [],
   "source": [
    "jj = 9\n",
    "dir1 = \"/Volumes/THEMBA/Real/ppmos\"+str(jj)+\"/\"\n",
    "dir3 = dir1+'linewidths/'\n",
    "f = open(dir1+\"original_files\",\"r\")\n",
    "cube_names = []\n",
    "for line in f:\n",
    "    x0 = str(line.split()[0])\n",
    "    cube_names.append(str(x0))"
   ]
  },
  {
   "cell_type": "code",
   "execution_count": 31,
   "metadata": {
    "collapsed": false,
    "scrolled": false
   },
   "outputs": [
    {
     "name": "stdout",
     "output_type": "stream",
     "text": [
      "18\n",
      "19\n"
     ]
    }
   ],
   "source": [
    "TABLE = open(dir1+\"updated\"+str(jj)+\"_Raw\",\"w\")\n",
    "TABLE.write(\"No.   \"+'Source-Id'+'      '+'str(Peak [Jy]'+'  '+\" SnR1\"+\"  \"+\" SnR2\"+\"   \"+\"V50_sys   V20_sys\"+\n",
    "   \"       W_50   W_20    Flux_int      Profile range\\n\")\n",
    "n=len(cube_names)\n",
    "for i in range(17,n):\n",
    "    print i+1\n",
    "    x = cube_names[i]\n",
    "    data = open(dir3+'Data_'+x+'.txt','r').readlines()\n",
    "    j=data[0].split('\\n')\n",
    "    \n",
    "    m=data[7].split('\\n') #peak S/N ration\n",
    "    SnR1=float(m[0].split('=')[1])\n",
    "    #print 'SnR1=',SnR1\n",
    "\n",
    "    mm=data[11].split('\\n') #peak S/N ration\n",
    "    SnR2=float(mm[0].split('=')[1]) #robust SNR\n",
    "    #print 'SnR2=',SnR2\n",
    "    \n",
    "    #Robust Moment \n",
    "    m=data[13].split('\\n') #Integrated flux\n",
    "    flux_int=m[0].split('       ')\n",
    "    flux_mom0=float(flux_int[2])    #integrated flux [Jy/beam km/s]\n",
    "    flux_mom1=float(flux_int[3])    #Flux waited [km/s]\n",
    "    flux_mom2=float(flux_int[4])    #Dispersion [km/s]\n",
    "    #flux_mom0,flux_mom1,flux_mom2\n",
    "    \n",
    "    # Line width measurements: Width maximiser\n",
    "    m=data[18].split('\\n')      #Systemic velocity\n",
    "    vel=m[0].split('     ')\n",
    "    vel_50=float(vel[1])       #50% line center velocity\n",
    "    vel_20=float(vel[2])       #20% line center velocity\n",
    "    #print \"Central velocity:\", vel_50,' and ',vel_20, ' km/s'\n",
    "\n",
    "    # Line widths\n",
    "    m=data[19].split('\\n')         #line widths\n",
    "    line_W=m[0].split('      ')\n",
    "    W_50=float(line_W[1])          #W_20\n",
    "    W_20=float(line_W[2])          #W_20\n",
    "    #print \"line widths:\", W_50,' and ',W_20, ' km/s'\n",
    "    \n",
    "    #mask & profile range\n",
    "    a=(data[-1].split('=')[-1])\n",
    "    aa=a[2:-1].split(',')\n",
    "    \n",
    "    TABLE.write(str(i+1)+'     '+x+'  '+str(data[4].split()[2])+'  '+str(SnR1)+\"  \"+str(SnR2)+\"    \"+str(vel_50)+\"  \"+str(vel_20)+\n",
    "          \"     \"+str(W_50)+\"  \"+str(W_20)+\"  \"+str(flux_mom0)+\"          \"+aa[0]+' --'+aa[1]+'\\n')\n",
    "    #print SnR2\n",
    "    \n",
    "TABLE.close()"
   ]
  },
  {
   "cell_type": "code",
   "execution_count": 27,
   "metadata": {
    "collapsed": false
   },
   "outputs": [],
   "source": [
    "TABLE.close()"
   ]
  },
  {
   "cell_type": "code",
   "execution_count": null,
   "metadata": {
    "collapsed": true
   },
   "outputs": [],
   "source": []
  },
  {
   "cell_type": "code",
   "execution_count": null,
   "metadata": {
    "collapsed": false
   },
   "outputs": [],
   "source": []
  },
  {
   "cell_type": "code",
   "execution_count": null,
   "metadata": {
    "collapsed": true
   },
   "outputs": [],
   "source": []
  }
 ],
 "metadata": {
  "kernelspec": {
   "display_name": "Python 2",
   "language": "python",
   "name": "python2"
  },
  "language_info": {
   "codemirror_mode": {
    "name": "ipython",
    "version": 2
   },
   "file_extension": ".py",
   "mimetype": "text/x-python",
   "name": "python",
   "nbconvert_exporter": "python",
   "pygments_lexer": "ipython2",
   "version": "2.7.13"
  }
 },
 "nbformat": 4,
 "nbformat_minor": 2
}
