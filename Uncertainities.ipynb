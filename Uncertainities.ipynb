{
 "cells": [
  {
   "cell_type": "code",
   "execution_count": 1,
   "metadata": {
    "collapsed": true
   },
   "outputs": [],
   "source": [
    "import numpy as np"
   ]
  },
  {
   "cell_type": "markdown",
   "metadata": {},
   "source": [
    "### Uncertainities associated with measured HI parameters\n",
    "\n",
    "* Sytemic velocity: $V_{_{sys}}$\n",
    "* Peak flux: $S_{_{peak}}$\n",
    "* Integrated flux: $S_{_{int}}$\n",
    "* Line widths: $W_{_{20}}$ and $W_{_{50}}$\n",
    "\n",
    "#### 1.1 Jonga\n",
    "\n",
    "\\begin{eqnarray}\n",
    "u \\left( S_{_{peak}} \\right) &=& \\sqrt{\\sigma^2_{_{rms}} + \\left(\\frac{S_{_{peak}}}{20} \\right)^2}\\hspace{4.7cm} \\mathrm{(Barnes \\, et \\, al.\\, 2001)}\\\\\\\\\n",
    "u(S_{_{int}}) &=&\\left(\\frac{4}{SN}\\right) \\sqrt{\\left(S_{_{peak}}S_{_{int}}\\right) \\delta v}\\hspace{3.5cm} \\mathrm{(Koribalski\\, et \\, al.\\,  2004)}\\\\\\\\\n",
    "u(V_{_{sys}})&=& \\left(\\frac{3}{SN}\\right) \\sqrt{\\left(\\frac{W_{_{20}}-W_{_{50}}}{2}\\right) \\delta v} \\hspace{2.5cm} \\mathrm{(Koribalski\\, et \\, al.\\,  2004)}\\\\\\\\\n",
    "u(W_{_{20}}) &=& 3 u(V_{_{sys}}) \\,\\,\\,\\,\\,\\& \\,\\,\\,\\,\\, u(W_{_{50}})= 4 u(V_{_{sys}})  \\hspace{2cm} \\mathrm{(Schneider \\,et\\, al.\\, 1986)}\\\\\\\\\n",
    "\\end{eqnarray}"
   ]
  },
  {
   "cell_type": "code",
   "execution_count": 7,
   "metadata": {
    "collapsed": false
   },
   "outputs": [],
   "source": [
    "def U_Speak(sigma,S_peak):\n",
    "    x = np.sqrt(sigma**2 + (S_peak/20.)**2)\n",
    "    return z\n",
    "\n",
    "def U_Fint(SN,S_peak,S_int)\n",
    "    x = (4./SN)*np.sqrt{}\n",
    "    return x\n",
    "\n",
    "def U_Vsys{SN,w20,w50}:\n",
    "    x = (3./SN)*np.sqrt{dv*(w20-w50)/2.}\n",
    "    return x\n"
   ]
  },
  {
   "cell_type": "code",
   "execution_count": 6,
   "metadata": {
    "collapsed": false
   },
   "outputs": [
    {
     "data": {
      "text/plain": [
       "0.05"
      ]
     },
     "execution_count": 6,
     "metadata": {},
     "output_type": "execute_result"
    }
   ],
   "source": [
    "1./20."
   ]
  },
  {
   "cell_type": "code",
   "execution_count": null,
   "metadata": {
    "collapsed": true
   },
   "outputs": [],
   "source": []
  }
 ],
 "metadata": {
  "kernelspec": {
   "display_name": "Python 2",
   "language": "python",
   "name": "python2"
  },
  "language_info": {
   "codemirror_mode": {
    "name": "ipython",
    "version": 2
   },
   "file_extension": ".py",
   "mimetype": "text/x-python",
   "name": "python",
   "nbconvert_exporter": "python",
   "pygments_lexer": "ipython2",
   "version": "2.7.13"
  }
 },
 "nbformat": 4,
 "nbformat_minor": 2
}
