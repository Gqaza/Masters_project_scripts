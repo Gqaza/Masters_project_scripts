{
 "cells": [
  {
   "cell_type": "code",
   "execution_count": null,
   "metadata": {
    "collapsed": true
   },
   "outputs": [],
   "source": []
  },
  {
   "cell_type": "markdown",
   "metadata": {},
   "source": [
    "### Script by: Themba Gqaza\n",
    "\n",
    "\n",
    "This is the second script that I've produced.  The first script extracts $\\&$ stores the subcubes of possible sources from the data cube.\n",
    "\n",
    "#### Second script:\n",
    "\n",
    "\n",
    "* Loads up the subcube (produced by the first script) and creates data products: moment maps, pv slices and global profiles.\n",
    "\n",
    "\n",
    "* Calculates: Flux centroid, distance, integrated flux $\\&$ HI mass.\n",
    "\n",
    "\n",
    "* Fits a busy function to the spectrum of the source then calculates line widths: $w_{_{20}}$ $\\&$ $w_{_{50}}$, $\\textit{Westmeier et al. 2014}$.\n",
    "\n",
    "\n",
    "* Tabulates the measurements of each source.\n"
   ]
  },
  {
   "cell_type": "markdown",
   "metadata": {},
   "source": [
    "\n",
    "## Script:\n",
    "\n",
    "#### Import all the modules required and load a data cube.\n",
    "\n"
   ]
  },
  {
   "cell_type": "code",
   "execution_count": 1,
   "metadata": {
    "collapsed": false
   },
   "outputs": [],
   "source": [
    "from astropy.io import fits\n",
    "from astropy.coordinates import SkyCoord\n",
    "from astropy import units as u\n",
    "from numpy import median,mean, std, histogram, arange, exp, zeros, ones, array, unique\n",
    "from matplotlib import pyplot as plt\n",
    "from scipy.optimize import curve_fit\n",
    "from scipy.ndimage.filters import gaussian_filter, uniform_filter1d\n",
    "from scipy.ndimage.measurements import label\n",
    "import numpy as np\n",
    "from astropy import wcs\n",
    "from scipy.special import erf\n",
    "from math import sqrt, log, sin, cos, asin, atan2, degrees, radians, pi\n",
    "from astropy.table import Table, Column\n",
    "import aplpy\n",
    "\n",
    "get_ipython().magic(u'matplotlib inline')\n"
   ]
  },
  {
   "cell_type": "code",
   "execution_count": 9,
   "metadata": {
    "collapsed": false
   },
   "outputs": [],
   "source": [
    "#Load data\n",
    "dir = '/Volumes/Themba/Real/ppmos1/linewidths/backup/'\n",
    "#1 Open the data cube in python\n",
    "hdr =fits.getheader('/Volumes/Themba/Real/ppmos1/P_709:165:563.fits')\n",
    "nani='/Volumes/Themba/Real/ppmos1/P_729:425:558.fits'\n",
    "cubeFile = fits.open(nani)\n",
    "cube   = cubeFile[0].data\n",
    "header = cubeFile[0].header\n",
    "cubeFile.close()\n"
   ]
  },
  {
   "cell_type": "markdown",
   "metadata": {},
   "source": [
    "\n",
    "\n",
    "#### Get noise properties of the data cube.\n",
    "\n"
   ]
  },
  {
   "cell_type": "code",
   "execution_count": 10,
   "metadata": {
    "collapsed": false
   },
   "outputs": [
    {
     "data": {
      "image/png": "[encoded data removed]",
      "text/plain": [
       "<matplotlib.figure.Figure at 0x117fe0750>"
      ]
     },
     "metadata": {},
     "output_type": "display_data"
    },
    {
     "name": "stdout",
     "output_type": "stream",
     "text": [
      "Noise = 0.34541 mJY/BEAM\n"
     ]
    }
   ],
   "source": [
    "#2 Estimate the noise level in the data\n",
    "#2.1 plotting the noise distribution\n",
    "def histo(cube):\n",
    "    binEdges      = arange(cube.min(),abs(cube.min()),(cube.max()-cube.min())/1000)\n",
    "    bins          = (binEdges[1:]+binEdges[:-1])/2\n",
    "    hist,binEdges = histogram(cube, bins=binEdges)\n",
    "\n",
    "    rmsSTD = std(cube)\n",
    "    plt.plot(bins,hist)\n",
    "    plt.show()\n",
    "    print 'Noise = '+str(round(1e3*rmsSTD,5))+' m'+header['BUNIT']\n",
    "histo(cube)"
   ]
  },
  {
   "cell_type": "code",
   "execution_count": 11,
   "metadata": {
    "collapsed": false
   },
   "outputs": [
    {
     "name": "stdout",
     "output_type": "stream",
     "text": [
      "Noise = 0.20675335026 mJY/BEAM\n"
     ]
    }
   ],
   "source": [
    "#2.4 Fit of negative part of the noise distribution\n",
    "def GaussianNoise(F,N0,s0):\n",
    "  return N0*exp(-F**2/2/s0**2)\n",
    "\n",
    "def rmsFit(Cube):\n",
    "  ## Make histogram of voxel values in the cube\n",
    "  binEdges      = arange(Cube.min(),abs(cube.min())/1000,abs(cube.min())/1000)\n",
    "  bins          = (binEdges[1:]+binEdges[:-1])/2\n",
    "  hist,binEdges = histogram(Cube, bins=binEdges)\n",
    "  ## Fit histogram\n",
    "  p0=[hist.max(),-bins[hist<hist.max()/2].max()*2/2.355]\n",
    "  return curve_fit(GaussianNoise,hist,bins,p0=p0)[0][1]\n",
    "\n",
    "print 'Noise = '+str(1e3*rmsFit(cube))+' m'+header['BUNIT']"
   ]
  },
  {
   "cell_type": "markdown",
   "metadata": {},
   "source": [
    "#### Use smooth and clip method  to create mask $\\textit{(Serra et al. 2012)}$.  Show a channel map of the masked cube"
   ]
  },
  {
   "cell_type": "code",
   "execution_count": 12,
   "metadata": {
    "collapsed": false
   },
   "outputs": [
    {
     "name": "stdout",
     "output_type": "stream",
     "text": [
      "smoothing with kernel of size: [ 0 , 0 , 0 ]\n",
      "smoothing with kernel of size: [ 0 , 0 , 3 ]\n",
      "smoothing with kernel of size: [ 0 , 0 , 7 ]\n",
      "smoothing with kernel of size: [ 0 , 0 , 15 ]\n",
      "smoothing with kernel of size: [ 3 , 3 , 0 ]\n",
      "smoothing with kernel of size: [ 3 , 3 , 3 ]\n",
      "smoothing with kernel of size: [ 3 , 3 , 7 ]\n",
      "smoothing with kernel of size: [ 3 , 3 , 15 ]\n",
      "smoothing with kernel of size: [ 6 , 6 , 0 ]\n",
      "smoothing with kernel of size: [ 6 , 6 , 3 ]\n",
      "smoothing with kernel of size: [ 6 , 6 , 7 ]\n",
      "smoothing with kernel of size: [ 6 , 6 , 15 ]\n"
     ]
    },
    {
     "data": {
      "image/png": "[encoded data removed]",
      "text/plain": [
       "<matplotlib.figure.Figure at 0x117106e90>"
      ]
     },
     "metadata": {},
     "output_type": "display_data"
    }
   ],
   "source": [
    "#3 Detection of voxels that contain signal\n",
    "#3.1 define kernel sizes for spatial & spectral smoothing & mask (initially empty)\n",
    "kernelsSpat = [0,3,6]\n",
    "kernelsSpec  = [0,3,7,15]\n",
    "mask = zeros(cube.shape)\n",
    "Mask = zeros(cube.shape)\n",
    "\n",
    "#3.2 smooth and clip\n",
    "for kSpat in kernelsSpat:\n",
    "  for kSpec in kernelsSpec:\n",
    "    print 'smoothing with kernel of size: [',kSpat,',',kSpat,',',kSpec,']'\n",
    "    ### spatial smoothing\n",
    "    smoothedCube = gaussian_filter(cube,[0,kSpat/2.355,kSpat/2.355],mode='constant')\n",
    "    ### spectral smoothing\n",
    "    if kSpec!=0:\n",
    "      smoothedCube = uniform_filter1d(smoothedCube,kSpec,axis=0,mode='constant')\n",
    "    ### estimate noise for the smoothed cube\n",
    "    rms = rmsFit(smoothedCube)\n",
    "    ### add pixels above 3 sigma limit to mask\n",
    "    mask[smoothedCube>=3.*rms] = 1\n",
    "Mask[smoothedCube>=0] = 1 \n",
    "## show one channel of the resulting mask (channel 30)\n",
    "plt.imshow(mask[50],cmap='gray',interpolation='nearest')\n",
    "plt.gca().invert_yaxis()\n",
    "plt.show()"
   ]
  },
  {
   "cell_type": "markdown",
   "metadata": {},
   "source": [
    "\n",
    "\n",
    "#### Group identified voxels into sources"
   ]
  },
  {
   "cell_type": "code",
   "execution_count": 13,
   "metadata": {
    "collapsed": false
   },
   "outputs": [
    {
     "data": {
      "image/png": "[encoded data removed]",
      "text/plain": [
       "<matplotlib.figure.Figure at 0x118095590>"
      ]
     },
     "metadata": {},
     "output_type": "display_data"
    }
   ],
   "source": [
    "#Show a channel map\n",
    "maskIDs = label(mask)[0]\n",
    "plt.imshow(maskIDs[50])\n",
    "plt.gca().invert_yaxis()\n",
    "plt.show()"
   ]
  },
  {
   "cell_type": "markdown",
   "metadata": {},
   "source": [
    "#### Remove smaller detections and relabel sources."
   ]
  },
  {
   "cell_type": "code",
   "execution_count": 14,
   "metadata": {
    "collapsed": false
   },
   "outputs": [
    {
     "name": "stdout",
     "output_type": "stream",
     "text": [
      "2\n"
     ]
    },
    {
     "data": {
      "image/png": "[encoded data removed]",
      "text/plain": [
       "<matplotlib.figure.Figure at 0x117ee7f90>"
      ]
     },
     "metadata": {},
     "output_type": "display_data"
    }
   ],
   "source": [
    "counter = 1\n",
    "for ID in unique(maskIDs)[1:]:\n",
    "  # remove all \"islands\" with #voxels<700\n",
    "  if (maskIDs[maskIDs==ID].sum())/ID<1700:\n",
    "    maskIDs[maskIDs==ID] = 0\n",
    "  else:\n",
    "    # assign a new ID to remaining sources\n",
    "    maskIDs[maskIDs==ID] = counter\n",
    "    counter+=1\n",
    "#fits.writeto(dir+'themba_msk.fits',maskIDs,clobber=True) #masked\n",
    "print counter\n",
    "plt.imshow(maskIDs[50],origin='bottom')\n",
    "plt.show()\n"
   ]
  },
  {
   "cell_type": "markdown",
   "metadata": {},
   "source": [
    "\n",
    "\n",
    "## Calculate flux centroid of the source\n",
    " \n",
    " \n",
    " \\begin{eqnarray}\n",
    " \\textbf{p} = \\frac{\\sum_i \\textbf{p}_i S(\\textbf{p}_i)}{\\sum_i  S(\\textbf{p}_i)}\n",
    " \\end{eqnarray}\n",
    " \n",
    "   Where: $\\textbf{p}$ is a flux centroid, $\\textbf{p}_i$ is a position vector of the $i^{th}$ voxel $\\&$ $S(\\textbf{p}_i)$ is the flux of the $i^{th}$ voxel."
   ]
  },
  {
   "cell_type": "code",
   "execution_count": 15,
   "metadata": {
    "collapsed": false
   },
   "outputs": [
    {
     "name": "stdout",
     "output_type": "stream",
     "text": [
      "for source #1, Flux Centroid : 18.9950797036, 21.663400226, 97.3873888899. Flux sum =0.908959461725\n"
     ]
    }
   ],
   "source": [
    "#Check the number of sources classified as islands (possible galaxies).\n",
    "labeled_array, num_features = label(maskIDs)\n",
    "nf=num_features\n",
    "\n",
    "data = cube     #cube data\n",
    "mask = maskIDs  #masked cube\n",
    "nz, ny, nx = data.shape  # read cube dimensions\n",
    "Centroid = []\n",
    "Sum_flux = []\n",
    "Int_flux1 = []\n",
    "for i in range(1,nf+1):\n",
    "    centroid = [0.0, 0.0, 0.0]\n",
    "    sum_flux = 0.0\n",
    "\n",
    "    for x in range(nx):\n",
    "        for y in range(ny):\n",
    "            for z in range(nz):\n",
    "                if mask[z][y][x] == i:\n",
    "                    flux = data[z][y][x]\n",
    "                    centroid[0] += flux * float(x)\n",
    "                    centroid[1] += flux * float(y)\n",
    "                    centroid[2] += flux * float(z)\n",
    "                    sum_flux += flux\n",
    "\n",
    "    centroid[0] /= sum_flux\n",
    "    centroid[1] /= sum_flux\n",
    "    centroid[2] /= sum_flux\n",
    "    Centroid.append(centroid)\n",
    "    Sum_flux.append(sum_flux)\n",
    "    print \"for source #\"+str(i)+\", Flux Centroid : \" + str(centroid[0]) + \", \" + str(centroid[1]) + \", \" + str(centroid[2])+\". Flux sum =\"+str(sum_flux)  "
   ]
  },
  {
   "cell_type": "markdown",
   "metadata": {},
   "source": [
    "#### Convert the centroid position to WCS coordinates"
   ]
  },
  {
   "cell_type": "code",
   "execution_count": 16,
   "metadata": {
    "collapsed": false
   },
   "outputs": [
    {
     "name": "stdout",
     "output_type": "stream",
     "text": [
      "For source #1, RA  = 74.5034165185 deg, Dec = 46.4762200912 deg, cz = 7036.10942266 km/s\n"
     ]
    },
    {
     "name": "stderr",
     "output_type": "stream",
     "text": [
      "WARNING: FITSFixedWarning: 'unitfix' made the change 'Changed units: 'DEGREE' -> 'deg', 'DEGREE' -> 'deg''. [astropy.wcs.wcs]\n",
      "WARNING: FITSFixedWarning: 'spcfix' made the change 'Changed CTYPE3 from 'VELO-HEL' to 'VOPT', and SPECSYS to 'BARYCENT''. [astropy.wcs.wcs]\n"
     ]
    }
   ],
   "source": [
    "\n",
    "RA,Dec,Vel = [],[],[]\n",
    "for i in range(nf):\n",
    "    wcshead = wcs.WCS(header)\n",
    "    coordinates = wcshead.wcs_pix2world(Centroid[i][0], Centroid[i][1], Centroid[i][2], 0)\n",
    "    ra = coordinates[0]\n",
    "    dec = coordinates[1]\n",
    "    vel = coordinates[2]*1e-3\n",
    "    \n",
    "    RA.append(ra)\n",
    "    Dec.append(dec)\n",
    "    Vel.append(vel)\n",
    "\n",
    "    print \"For source #\"+str(i+1)+\", RA  = \" + str(ra) + \" deg, Dec = \" + str(dec) + \" deg, cz = \" + str(vel) + \" km/s\""
   ]
  },
  {
   "cell_type": "markdown",
   "metadata": {},
   "source": [
    "### Convert from J2000 to Galactic coordinates\n",
    "\n",
    " \\begin{eqnarray}\n",
    " \\tan (\\alpha_0^{\\prime} - \\alpha^{\\prime}) = \\frac{\\cos(\\beta) \\sin(\\alpha - \\alpha_0)}{\\sin{\\beta}\\cos{\\beta_0} -  \\cos(\\beta) \\sin{\\beta_0} \\cos(\\alpha - \\alpha_0)} \\\\\\\\\n",
    "  \\sin{\\beta^{\\prime} = \\sin{\\beta}\\cos{\\beta_0} +  \\cos(\\beta) \\sin{\\beta_0} \\cos(\\alpha - \\alpha_0)}\n",
    "  \\end{eqnarray}"
   ]
  },
  {
   "cell_type": "code",
   "execution_count": 17,
   "metadata": {
    "collapsed": false
   },
   "outputs": [
    {
     "name": "stdout",
     "output_type": "stream",
     "text": [
      "for source #1: l = 160.268856062 deg, b = 2.26584949532 deg\n"
     ]
    }
   ],
   "source": [
    "Glat,Glon = [], []\n",
    "for i in range(nf):\n",
    "    ra0 = radians(192.8595)\n",
    "    dec0 = radians(27.1284)\n",
    "    gl0 = radians(122.9320)\n",
    "    glat = asin(sin(radians(Dec[i])) * sin(dec0) + cos(radians(Dec[i])) * cos(dec0) * cos(radians(RA[i]) - ra0))\n",
    "    glon = gl0 - atan2(cos(radians(Dec[i])) * sin(radians(RA[i]) - ra0), sin(radians(Dec[i])) * cos(dec0) - cos(radians(Dec[i])) * sin(dec0) * cos(radians(RA[i]) - ra0))\n",
    "    Glat.append(degrees(glat))\n",
    "    Glon.append(degrees(glon))\n",
    "    print \"for source #\"+str(i+1)+\": l = \" + str(degrees(glon)) + \" deg, b = \" + str(degrees(glat)) + \" deg\""
   ]
  },
  {
   "cell_type": "markdown",
   "metadata": {},
   "source": [
    "### Convert velocities from barycentric to LSR and GSR \n",
    "\n",
    "\n",
    "\\begin{align}\n",
    "V_{lsr} = V_{bar} + 9 \\cos(l) \\cos(b) + 12 \\sin(l)\\cos(b) + 7\\sin(b)\\\\\\\\\n",
    "V_{gsr} = V_{lsr} 220 \\sin(l)\\cos(b) \\hspace{5.7cm}\n",
    "\\end{align}\n"
   ]
  },
  {
   "cell_type": "code",
   "execution_count": 18,
   "metadata": {
    "collapsed": false
   },
   "outputs": [
    {
     "name": "stdout",
     "output_type": "stream",
     "text": [
      "for source #1: vlsr = 7047.60876901 km/s, vgsr = 7054.31710528 km/s\n"
     ]
    }
   ],
   "source": [
    "# Determine LSR and GSR velocity\n",
    "Vlsr,Vgsr = [], [] \n",
    "for i in range(nf):\n",
    "    vlsr = Vel[i] + 9.0 * cos(Glon[i]) * cos(Glat[i]) + 12.0 * sin(Glon[i]) * cos(Glat[i]) +  7.0 * sin(Glat[i])\n",
    "    vgsr = vlsr + 220.0 * sin(Glon[i]) * cos(Glat[i])\n",
    "    Vlsr.append(vlsr)\n",
    "    Vgsr.append(vgsr)\n",
    "    print \"for source #\"+str(i+1)+\": vlsr = \" + str(vlsr) + \" km/s, vgsr = \" + str(vgsr) + \" km/s\""
   ]
  },
  {
   "cell_type": "markdown",
   "metadata": {},
   "source": [
    "### Measure Integrated Flux\n",
    "\\begin{align}\n",
    "S_{int} = \\frac{S_{tot}}{\\Omega_{PSF}}\\hspace{2cm} \\Omega_{PSF} = \\frac{\\pi \\hspace{0.5mm} \\theta_a \\theta_b}{4 \\ln (2)}\n",
    "\\end{align}"
   ]
  },
  {
   "cell_type": "code",
   "execution_count": 19,
   "metadata": {
    "collapsed": false
   },
   "outputs": [
    {
     "name": "stdout",
     "output_type": "stream",
     "text": [
      "for source #1: Fint = 0.613443153655 Jy km/s\n",
      "--------------------------------------------------------------------------------------\n"
     ]
    }
   ],
   "source": [
    "\n",
    "# Determine integrated flux\n",
    "BMAJ,BMIN =  6.4913E-03 ,4.6136E-03\n",
    "dv = abs(wcshead.wcs_pix2world(0, 0, int(centroid[2] + 1), 0)[2] - wcshead.wcs_pix2world(0, 0, int(centroid[2]), 0)[2]) # channel width in km/s\n",
    "cdelt = abs(header.get(\"cdelt1\"))  # pixel size in rad\n",
    "bmaj = BMAJ / cdelt  # beam major axis in pixels\n",
    "bmin = BMIN / cdelt  # beam minor axis in pixels\n",
    "dv = dv*1e-3\n",
    "Int_flux = []\n",
    "for i in range(nf):\n",
    "    int_flux = dv * Sum_flux[i] * 4.0 * log(2.0) / (pi * bmaj * bmin)\n",
    "    Int_flux.append(int_flux)\n",
    "    print \"for source #\"+str(i+1)+\": Fint = \" + str(int_flux) + \" Jy km/s\"\n",
    "print '--------------------------------------------------------------------------------------'"
   ]
  },
  {
   "cell_type": "markdown",
   "metadata": {},
   "source": [
    "###  Determine HI mass\n",
    " \n",
    "Turn integrated flux into HI mass using Hubble distance\n",
    "\n",
    "\\begin{eqnarray}\n",
    "\\frac{M_{HI}}{M_{\\odot}} =\\left( 2.36 \\times 10^5 \\right) \\left(\\frac{S_{int}}{Jy \\hspace{1mm} km/s}\\right) \\left(\\frac{d}{Mpc} \\right)^2\n",
    "\\end{eqnarray}"
   ]
  },
  {
   "cell_type": "code",
   "execution_count": 13,
   "metadata": {
    "collapsed": false
   },
   "outputs": [
    {
     "name": "stdout",
     "output_type": "stream",
     "text": [
      "for source #1: log(MHI/Msun) = 9.41190424828 at d = 101.736206305 Mpc\n",
      "--------------------------------------------------------------------------------------\n"
     ]
    }
   ],
   "source": [
    "# TASK 6\n",
    "Distance, HI_Mass = [],[]\n",
    "\n",
    "for i in range(nf):\n",
    "    distance = Vel[i] / 70.0  # Hubble distance, assuming H0 = 70 km/s/Mpc\n",
    "    hi_mass = 2.36e+5 * Int_flux[i] * distance * distance\n",
    "    HI_mass = log(hi_mass) / log(10.0)\n",
    "    Distance.append(distance)\n",
    "    HI_Mass.append(HI_mass)\n",
    "    print \"for source #\"+str(i+1)+\": log(MHI/Msun) = \" + str(HI_mass) + \" at d = \" + str(distance) + \" Mpc\"\n",
    "    \n",
    "print '--------------------------------------------------------------------------------------'\n"
   ]
  },
  {
   "cell_type": "markdown",
   "metadata": {},
   "source": [
    "### Create Moment zero Map\n",
    "\n",
    "\\begin{eqnarray}\n",
    "M_0(x,y) =\\delta v \\sum S(x,y,z)\n",
    "\\end{eqnarray}\n",
    "\n",
    "\n",
    "\n",
    "\n",
    "\n",
    "\n",
    "\n",
    "\n",
    "\n",
    "\n",
    "\n",
    "\n",
    "\n",
    "\n",
    "\n",
    "\n",
    "\n",
    "\n",
    "\n",
    "\n",
    "\n",
    "\n",
    "\n",
    "\n",
    "\n",
    "\n",
    "\n",
    "\n",
    "\n",
    "\n",
    "\n"
   ]
  },
  {
   "cell_type": "code",
   "execution_count": 14,
   "metadata": {
    "collapsed": false
   },
   "outputs": [
    {
     "data": {
      "image/png": "[encoded data removed]",
      "text/plain": [
       "<matplotlib.figure.Figure at 0x110e67990>"
      ]
     },
     "metadata": {},
     "output_type": "display_data"
    }
   ],
   "source": [
    "# TASK 7\n",
    "# Calculate moment 0 map\n",
    "moment0 = [[0 for x in range(nx)] for y in range(ny)]\n",
    "\n",
    "for x in range(nx):\n",
    "    for y in range(ny):\n",
    "        moment0[y][x] = 0.0\n",
    "        for z in range(nz):\n",
    "            if mask[z][y][x] ==1 and data[z][y][x] > 0.0: moment0[y][x] += data[z][y][x]\n",
    "            # NOTE: We don't multiply with dv here, so moment 0 will be in Jy * channel\n",
    "mom0=np.array(moment0)*dv\n",
    "mom01=np.array(moment0)\n",
    "#fits.writeto(\"test_mom0.fits\",mom0, clobber=True)\n",
    "fig = plt.figure()\n",
    "ax = fig.add_subplot(111) # Or we could call plt.gca() later...\n",
    "im = ax.imshow(mom0)\n",
    "cy=ax.get_yticks()\n",
    "from astropy import units as U\n",
    "#coord = wcshead.wcs_pix2world(cy[0], cy[1], 0, 0)\n",
    "C1,C2 = [],[]\n",
    "q=cy.shape\n",
    "for i in range(1,q[0]):\n",
    "    coord = wcshead.wcs_pix2world(cy[i], cy[i], 0, 0)\n",
    "    C1.append(round(coord[0],2)) # RA [degrees]\n",
    "    C2.append(round(coord[1],2)) #Dec [degrees]\n",
    "    \n",
    "# Write functions that will convert RA [deg] >> RA [hm] & Dec [deg] >> Dec [dm]\n",
    "# Note you can change the ticks on the plots {from degrees to h:m & d:m} by replacing C1 & C2 by c1 & c2 respectively\n",
    "def HMS(f):\n",
    "    H = f/15.\n",
    "    h = int(H)\n",
    "    m = round((H-h)*60,1)\n",
    "    #print 'RA [h:m]= 0'+str(h)+':'+str(m)\n",
    "    return '0'+str(h)+':'+str(m)\n",
    "    \n",
    "def DMS(f):\n",
    "    d = int(f)\n",
    "    m = round((f - d)*60.,1)\n",
    "    return str(d)+':'+str(m)\n",
    "\n",
    "c1,c2=[],[]\n",
    "for index in C1:\n",
    "    c1.append(HMS(index))\n",
    "\n",
    "for index in C2:\n",
    "    c2.append(DMS(index))\n",
    "#-------------------this block ends-----------------#    \n",
    "    \n",
    "#ax.set_xticks(cy,C1)    \n",
    "cbar = fig.colorbar(im,pad=0.009)\n",
    "cbar.set_label('[Jy km/s]')\n",
    "ax.set_yticklabels(list(C2))\n",
    "ax.set_xticklabels(list(C1))\n",
    "ax.set_xlabel(r\"$\\alpha_{_{J2000}}$ $[\\deg]$\",fontsize='large')\n",
    "ax.set_ylabel(r\"$\\delta_{_{J2000}}$ $[\\deg]$\",fontsize='large')\n",
    "ax.axes.invert_yaxis()\n",
    "\n",
    "\n"
   ]
  },
  {
   "cell_type": "markdown",
   "metadata": {},
   "source": [
    "### Create Moment 1 Map\n",
    "\n",
    "\\begin{eqnarray}\n",
    "M_1(x,y) = \\frac{\\sum_z v(z) S(x,y,z)}{\\sum_z S(x,y,z)}\n",
    "\\end{eqnarray}"
   ]
  },
  {
   "cell_type": "code",
   "execution_count": 15,
   "metadata": {
    "collapsed": false
   },
   "outputs": [
    {
     "data": {
      "text/plain": [
       "<matplotlib.text.Text at 0x11a75a6d0>"
      ]
     },
     "execution_count": 15,
     "metadata": {},
     "output_type": "execute_result"
    },
    {
     "data": {
      "image/png": "[encoded data removed]",
      "text/plain": [
       "<matplotlib.figure.Figure at 0x11a4f2cd0>"
      ]
     },
     "metadata": {},
     "output_type": "display_data"
    }
   ],
   "source": [
    "# TASK 8\n",
    "# Calculate moment 1 map\n",
    "velocity = [0 for z in range(nz)]\n",
    "for z in range(nz):\n",
    "    tmp = wcshead.wcs_pix2world(0, 0, z, 0)\n",
    "    velocity[z] = tmp[2]*1e-3 \n",
    "\n",
    "moment1 = [[0 for x in range(nx)] for y in range(ny)]\n",
    "for x in range(nx):\n",
    "    for y in range(ny):\n",
    "        moment1[y][x] = 0.0\n",
    "        for z in range(nz):\n",
    "            if mask[z][y][x] >= 1. and data[z][y][x] > 0.0: moment1[y][x] += velocity[z] * data[z][y][x]\n",
    "        if moment0[y][x] > 0.0: moment1[y][x] /= moment0[y][x]\n",
    "        else: moment1[y][x] = np.nan\n",
    "\n",
    "#plt.imshow(moment1, origin=\"lower\", cmap=\"jet\", interpolation=\"nearest\")\n",
    "fig = plt.figure()\n",
    "ax = fig.add_subplot(111) # Or we could call plt.gca() later...\n",
    "im = ax.imshow(moment1, origin=\"lower\", cmap=\"jet\", interpolation=\"nearest\")\n",
    "cbar = fig.colorbar(im,pad=0.009)\n",
    "cbar.set_label(r'$V_{helio}$ [km/s]')\n",
    "ax.set_yticklabels(list(C2))\n",
    "ax.set_xticklabels(list(C1))\n",
    "ax.set_xlabel(r\"$\\alpha_{_{J2000}}$ $[\\deg]$\",fontsize='large')\n",
    "ax.set_ylabel(r\"$\\delta_{_{J2000}}$ $[\\deg]$\",fontsize='large')"
   ]
  },
  {
   "cell_type": "markdown",
   "metadata": {},
   "source": [
    "### Extract Integrated Spectrum\n",
    "\n",
    "\\begin{align}\n",
    "S_{int}(z) = \\frac{1}{\\Omega_{PSF}} \\sum_x \\sum_y S(x,y,z) \n",
    "\\end{align}\n",
    "\n"
   ]
  },
  {
   "cell_type": "code",
   "execution_count": 16,
   "metadata": {
    "collapsed": false
   },
   "outputs": [
    {
     "data": {
      "image/png": "[encoded data removed]",
      "text/plain": [
       "<matplotlib.figure.Figure at 0x11a4f2f10>"
      ]
     },
     "metadata": {},
     "output_type": "display_data"
    }
   ],
   "source": [
    "Spectrum=[]\n",
    "for i in range(1,nf+1):\n",
    "    spectrum = [0 for z in range(nz)]\n",
    "    for z in range(nz):\n",
    "        spectrum[z] = 0.0\n",
    "        for y in range(ny):\n",
    "            for x in range(nx):\n",
    "                if mask[z][y][x] == 1: spectrum[z] += data[z][y][x] * 4.0 * log(2.0) / (pi * bmaj * bmin)\n",
    "    Spectrum.append(spectrum)\n",
    "    cwadi = open('SPEC_'+str(i)+'.txt','w')\n",
    "    n = len(spectrum)\n",
    "    for i in range(n): \n",
    "        cwadi.write(str(int(round(velocity[i])))+'    '+str(spectrum[i])+'\\n')\n",
    "    cwadi.close()\n",
    "    plt.plot(velocity,spectrum)\n",
    "    plt.xlabel('Velocity')\n",
    "    plt.ylabel('flux')\n",
    "    plt.show()\n",
    "    "
   ]
  },
  {
   "cell_type": "code",
   "execution_count": 17,
   "metadata": {
    "collapsed": false
   },
   "outputs": [
    {
     "ename": "NameError",
     "evalue": "name 'rmsSTD' is not defined",
     "output_type": "error",
     "traceback": [
      "\u001b[0;31m---------------------------------------------------------------------------\u001b[0m",
      "\u001b[0;31mNameError\u001b[0m                                 Traceback (most recent call last)",
      "\u001b[0;32m<ipython-input-17-591610a4c340>\u001b[0m in \u001b[0;36m<module>\u001b[0;34m()\u001b[0m\n\u001b[1;32m      6\u001b[0m         \u001b[0;32mfor\u001b[0m \u001b[0my\u001b[0m \u001b[0;32min\u001b[0m \u001b[0mrange\u001b[0m\u001b[0;34m(\u001b[0m\u001b[0mny\u001b[0m\u001b[0;34m)\u001b[0m\u001b[0;34m:\u001b[0m\u001b[0;34m\u001b[0m\u001b[0m\n\u001b[1;32m      7\u001b[0m             \u001b[0;32mfor\u001b[0m \u001b[0mx\u001b[0m \u001b[0;32min\u001b[0m \u001b[0mrange\u001b[0m\u001b[0;34m(\u001b[0m\u001b[0mnx\u001b[0m\u001b[0;34m)\u001b[0m\u001b[0;34m:\u001b[0m\u001b[0;34m\u001b[0m\u001b[0m\n\u001b[0;32m----> 8\u001b[0;31m                 \u001b[0;32mif\u001b[0m \u001b[0mdata\u001b[0m\u001b[0;34m[\u001b[0m\u001b[0mz\u001b[0m\u001b[0;34m]\u001b[0m\u001b[0;34m[\u001b[0m\u001b[0my\u001b[0m\u001b[0;34m]\u001b[0m\u001b[0;34m[\u001b[0m\u001b[0mx\u001b[0m\u001b[0;34m]\u001b[0m \u001b[0;34m>=\u001b[0m\u001b[0;34m-\u001b[0m\u001b[0;36m10\u001b[0m\u001b[0;34m*\u001b[0m\u001b[0mrmsSTD\u001b[0m\u001b[0;34m:\u001b[0m \u001b[0mspectrum1\u001b[0m\u001b[0;34m[\u001b[0m\u001b[0mz\u001b[0m\u001b[0;34m]\u001b[0m \u001b[0;34m+=\u001b[0m \u001b[0mdata\u001b[0m\u001b[0;34m[\u001b[0m\u001b[0mz\u001b[0m\u001b[0;34m]\u001b[0m\u001b[0;34m[\u001b[0m\u001b[0my\u001b[0m\u001b[0;34m]\u001b[0m\u001b[0;34m[\u001b[0m\u001b[0mx\u001b[0m\u001b[0;34m]\u001b[0m \u001b[0;34m*\u001b[0m \u001b[0;36m4.0\u001b[0m \u001b[0;34m*\u001b[0m \u001b[0mlog\u001b[0m\u001b[0;34m(\u001b[0m\u001b[0;36m2.0\u001b[0m\u001b[0;34m)\u001b[0m \u001b[0;34m/\u001b[0m \u001b[0;34m(\u001b[0m\u001b[0mpi\u001b[0m \u001b[0;34m*\u001b[0m \u001b[0mbmaj\u001b[0m \u001b[0;34m*\u001b[0m \u001b[0mbmin\u001b[0m\u001b[0;34m)\u001b[0m\u001b[0;34m\u001b[0m\u001b[0m\n\u001b[0m\u001b[1;32m      9\u001b[0m \u001b[0;34m\u001b[0m\u001b[0m\n\u001b[1;32m     10\u001b[0m     \u001b[0mSpectrum1\u001b[0m\u001b[0;34m.\u001b[0m\u001b[0mappend\u001b[0m\u001b[0;34m(\u001b[0m\u001b[0mspectrum1\u001b[0m\u001b[0;34m)\u001b[0m\u001b[0;34m\u001b[0m\u001b[0m\n",
      "\u001b[0;31mNameError\u001b[0m: name 'rmsSTD' is not defined"
     ]
    }
   ],
   "source": [
    "Spectrum1 = []\n",
    "for i in range(1,nf+1):\n",
    "    spectrum1 = [0 for z in range(nz)]\n",
    "    for z in range(nz):\n",
    "        spectrum1[z] = 0.0\n",
    "        for y in range(ny):\n",
    "            for x in range(nx):\n",
    "                if data[z][y][x] >=-10*rmsSTD: spectrum1[z] += data[z][y][x] * 4.0 * log(2.0) / (pi * bmaj * bmin)\n",
    "                    \n",
    "    Spectrum1.append(spectrum1)\n",
    "    #cwadi = open('SPEC_Raw_'+str(i)+'.txt','w')\n",
    "    n = len(spectrum1)\n",
    "    #for i in range(n): \n",
    "    #   cwadi.write(str(int(round(velocity[i])))+'    '+str(spectrum1[i])+'\\n')\n",
    "    #cwadi.close()\n",
    "    plt.plot(velocity,spectrum1)\n",
    "    plt.xlabel('Velocity')\n",
    "    plt.ylabel('flux')\n",
    "    plt.show()"
   ]
  },
  {
   "cell_type": "markdown",
   "metadata": {},
   "source": [
    "### Fit Busy Function to integrated spectrum\n",
    "\n",
    "\n",
    "\\begin{align}\n",
    "B(z) = \\left(\\frac{a}{4} \\right) \\left[ erf \\left(b_1 (w + z - z_e) \\right) + 1  \\right] \\times\n",
    "\\left[ erf \\left(b_2 (w - z + z_e) \\right) + 1  \\right] \\times \\left[ c \\left| z-z_p\\right|^n +1  \\right]\n",
    "\\end{align}\n"
   ]
  },
  {
   "cell_type": "code",
   "execution_count": 18,
   "metadata": {
    "collapsed": false,
    "scrolled": true
   },
   "outputs": [
    {
     "name": "stdout",
     "output_type": "stream",
     "text": [
      "Busy Function fit: 0.0032404159359, 0.122904186618, 0.0485282257761, 0.00018221275164, 99.4883416722, 7113.59549952, 7106.91168627\n"
     ]
    },
    {
     "data": {
      "image/png": "[encoded data removed]",
      "text/plain": [
       "<matplotlib.figure.Figure at 0x11a919f50>"
      ]
     },
     "metadata": {},
     "output_type": "display_data"
    }
   ],
   "source": [
    "# TASK 10\n",
    "# Define Busy Function\n",
    "def BF(x, a, b1, b2, c, w, xe, xp):\n",
    "    return (a/4.0) * (erf(b1 * (w + x - xe)) + 1) * (erf(b2 * (w - x + xe)) + 1) * (c * np.absolute(x - xp) * np.absolute(x - xp) + 1)\n",
    "\n",
    "Popt,Pcov = [],[]\n",
    "# Fit Busy Function to spectrum\n",
    "for i in range(nf):\n",
    "    u =Vel[i] #mean(velocity)\n",
    "    #popt, pcov =0.,0.\n",
    "    popt, pcov = curve_fit(BF, velocity, Spectrum[i], [0.1, 0.1, 0.1, 1.0e-4, 30.0, u, u])\n",
    "    print \"Busy Function fit: \" + str(popt[0]) + \", \" + str(popt[1]) + \", \" + str(popt[2]) + \", \" + str(popt[3]) + \", \" + str(popt[4]) + \", \" + str(popt[5]) + \", \" + str(popt[6])\n",
    "\n",
    "    # -----------------------------------------------\n",
    "    Popt.append(popt)\n",
    "    Pcov.append(pcov)\n",
    "    # TASK 11\n",
    "    # Plot spectrum + BF fit\n",
    "    fig = plt.figure(figsize=(12,10))\n",
    "    plt.plot(velocity, Spectrum[i], drawstyle=\"steps-mid\", color=\"black\",label='Spectrum')\n",
    "    plt.axhline(0.0, color=\"grey\", linestyle=\"dashed\")\n",
    "    plt.xlabel(\"Radial velocity (km/s)\",fontsize=24)\n",
    "    plt.ylabel(\"Flux density (Jy)\",fontsize=24)\n",
    "    plt.plot(velocity, BF(velocity, popt[0] ,popt[1], popt[2], popt[3], popt[4], popt[5], popt[6]), color=\"red\",label='BusyF Fit')\n",
    "    #plt.ticklabel_format(style='sci', axis='x', scilimits=(0,0))\n",
    "    plt.xticks(fontsize=20)\n",
    "    plt.yticks(fontsize=20)\n",
    "    plt.legend(loc='best',fontsize=15)\n",
    "    plt.savefig('SourceFit.pdf')\n",
    "    plt.show()\n",
    "    #plt.cla()"
   ]
  },
  {
   "cell_type": "markdown",
   "metadata": {
    "collapsed": false
   },
   "source": [
    "#### Determine integrated flux from BF fit"
   ]
  },
  {
   "cell_type": "code",
   "execution_count": 19,
   "metadata": {
    "collapsed": false
   },
   "outputs": [
    {
     "name": "stdout",
     "output_type": "stream",
     "text": [
      "BF flux: 1.05275930771 Jy km/s , while integrated flux from the mask is 1.05691769119 Jy km/s\n"
     ]
    }
   ],
   "source": [
    "Flux_bf = [] \n",
    "for i in range(nf):\n",
    "    flux_bf = 0.0\n",
    "    for z in range(nz):\n",
    "        flux_bf += BF(velocity[z], Popt[i][0], Popt[i][1], Popt[i][2], Popt[i][3], Popt[i][4], Popt[i][5], Popt[i][6]) * dv\n",
    "    Flux_bf.append(flux_bf)\n",
    "    print \"BF flux: \" + str(flux_bf) + \" Jy km/s\", ', while integrated flux from the mask is', str(Int_flux[i])+ \" Jy km/s\" "
   ]
  },
  {
   "cell_type": "markdown",
   "metadata": {},
   "source": [
    "### Calculate systemic velocity and line widths.\n",
    "\n",
    "\n",
    "\\begin{align}\n",
    "V_{_{sys}} = \\left(\\frac{1}{4} \\right)\\left( v_{_{r,20}} +v_{_{a,20}} +v_{_{r,50}}+v_{_{a,50}} \\right) \\hspace{5.3cm} \\\\\\\\\n",
    "w_{_{20}} = \\left( v_{_{r,20}} - v_{_{a,20}} \\right) \\hspace{9.1cm} \\\\\\\\\n",
    "w_{_{50}} = \\left( v_{_{r,50}} - v_{_{a,50}} \\right) \\hspace{9.1cm}\n",
    "\\end{align}"
   ]
  },
  {
   "cell_type": "code",
   "execution_count": 20,
   "metadata": {
    "collapsed": false
   },
   "outputs": [
    {
     "name": "stdout",
     "output_type": "stream",
     "text": [
      "(v_sys,w20,w50) for source #1 = (7173, 0, 207) km/s\n"
     ]
    }
   ],
   "source": [
    "#find linewidths of the source\n",
    "V_sys,W_20,W_50 = [],[],[]\n",
    "for i in range(nf):\n",
    "    BusyF=BF(velocity, Popt[i][0] ,Popt[i][1], Popt[i][2], Popt[i][3], Popt[i][4], Popt[i][5], Popt[i][6])\n",
    "    maxima = np.max(BusyF)\n",
    "    w_20 = []\n",
    "    w_50 = []\n",
    "    for v in np.linspace(velocity[0],velocity[-1],1e5):\n",
    "        busyF = BF(v, Popt[i][0] ,Popt[i][1], Popt[i][2], Popt[i][3], Popt[i][4], Popt[i][5], Popt[i][6])\n",
    "        w20,w50 = 0.2*maxima,0.5*maxima\n",
    "        if busyF >= w20-1e-3*w20 and busyF <= w20+1e-3*w20: #look for w_20\n",
    "            w_20.append(v)\n",
    "            #print int(v)\n",
    "            #break    \n",
    "        if busyF >= w50-1e-3*w50 and busyF <= w50+1e-3*w50: #look for w_50\n",
    "            w_50.append(v)\n",
    "            #print 'w50='+str(int(v))\n",
    "            #break        \n",
    "        \n",
    "    w_20,w_50 = np.array(w_20), np.array(w_50)\n",
    "    v_sys = int(round(0.25*(w_20[-1] + w_20[0]+w_50[-1] + w_50[0])))\n",
    "    W20   = int(round(w_20[-1] - w_20[0]))\n",
    "    W50   = int(round(w_50[-1] - w_50[0]))\n",
    "    V_sys.append(v_sys)\n",
    "    W_20.append(W20)\n",
    "    W_50.append(W50)\n",
    "    print \"(v_sys,w20,w50) for source #\"+str(i+1)+' = '+str((v_sys,W20,W50))+' km/s'"
   ]
  },
  {
   "cell_type": "markdown",
   "metadata": {},
   "source": [
    "#### Write functions that will convert RA [deg]  to RA [hms] $\\&$ Dec [deg] to Dec [dms]"
   ]
  },
  {
   "cell_type": "code",
   "execution_count": 21,
   "metadata": {
    "collapsed": false
   },
   "outputs": [
    {
     "name": "stdout",
     "output_type": "stream",
     "text": [
      "RA = 04:58:10.03 & Dec = 46:2:35.3\n"
     ]
    }
   ],
   "source": [
    "def hms(f):\n",
    "    H = f/15.\n",
    "    h = int(H)\n",
    "    m = int((H-h)*60)\n",
    "    s =round((((H-h)*60 - m)*60),2)\n",
    "    return h,m,s\n",
    "    \n",
    "def dms(f):\n",
    "    d = int(f)\n",
    "    m = int((f - d)*60.)\n",
    "    s = round(((f - d)*60. - m)*60,1)\n",
    "    return d, m,s\n",
    "# Apply above convertion\n",
    "RA_hms,Dec_dms = [],[]\n",
    "for i in range(nf):\n",
    "    RA_hms.append(str(hms(RA[i])[0])+':'+str(hms(RA[i])[1])+':'+str(hms(RA[i])[2]))\n",
    "    Dec_dms.append(str(dms(Dec[i])[0])+':'+str(dms(Dec[i])[1])+':'+str(dms(Dec[i])[2]))\n",
    "    print 'RA = 0'+str(hms(RA[i])[0])+':'+str(hms(RA[i])[1])+':'+str(hms(RA[i])[2]),   '&','Dec = '+str(dms(Dec[i])[0])+':'+str(dms(Dec[i])[1])+':'+str(dms(Dec[i])[2])\n"
   ]
  },
  {
   "cell_type": "markdown",
   "metadata": {},
   "source": [
    "#### Asign unique names to all the identified sources."
   ]
  },
  {
   "cell_type": "code",
   "execution_count": 22,
   "metadata": {
    "collapsed": false
   },
   "outputs": [
    {
     "name": "stdout",
     "output_type": "stream",
     "text": [
      "P045810.03+460235.3\n"
     ]
    }
   ],
   "source": [
    "source_id = []    #assign source id's\n",
    "for i in range(nf):\n",
    "    aa='P0'+RA_hms[i]+'+'+Dec_dms[i]\n",
    "    \n",
    "    if aa[5]==':':\n",
    "        aa = aa[:4]+'0'+aa[4:]\n",
    "\n",
    "    if aa[8]=='.':\n",
    "        aa = aa[:7]+'0'+aa[7:]\n",
    "        #print aa\n",
    "    if aa[17]==':':\n",
    "        aa = aa[:16]+'0'+aa[16:]\n",
    "\n",
    "    if aa[20]=='.':\n",
    "        aa = aa[:19]+'0'+aa[19:]\n",
    "    \n",
    "    bb=aa.replace(':','')\n",
    "    source_id.append(bb)\n",
    "    \n",
    "    print bb "
   ]
  },
  {
   "cell_type": "markdown",
   "metadata": {},
   "source": [
    "### Tabulate the results"
   ]
  },
  {
   "cell_type": "code",
   "execution_count": 23,
   "metadata": {
    "collapsed": false
   },
   "outputs": [
    {
     "data": {
      "text/html": [
       "&lt;Table length=1&gt;\n",
       "<table id=\"table4741921680\" class=\"table-striped table-bordered table-condensed\">\n",
       "<thead><tr><th>Source ID</th><th>l [deg]</th><th>b [deg]</th><th>$V_{sys}$ [km/s]</th><th>$w_{_{20}}$ [km/s]</th><th>$w_{_{50}}$ [km/s]</th><th>$S_{_{int}}$ [Jy km/s]</th><th>D [Mpc]</th><th>log $\\left(M_{HI}\\right)$</th></tr></thead>\n",
       "<thead><tr><th>str19</th><th>float64</th><th>float64</th><th>int64</th><th>int64</th><th>int64</th><th>float64</th><th>int64</th><th>float64</th></tr></thead>\n",
       "<tr><td>P045810.03+460235.3</td><td>160.63</td><td>2.02</td><td>7133</td><td>0</td><td>207</td><td>1.06</td><td>102</td><td>9.41</td></tr>\n",
       "</table>"
      ],
      "text/plain": [
       "<Table length=1>\n",
       "     Source ID      l [deg] b [deg] ... D [Mpc] log $\\left(M_{HI}\\right)$\n",
       "       str19        float64 float64 ...  int64           float64         \n",
       "------------------- ------- ------- ... ------- -------------------------\n",
       "P045810.03+460235.3  160.63    2.02 ...     102                      9.41"
      ]
     },
     "execution_count": 23,
     "metadata": {},
     "output_type": "execute_result"
    }
   ],
   "source": [
    "i=0\n",
    "a = [source_id[i]]\n",
    "b = [round(Glon[i],2)]\n",
    "c = [round(Glat[i],2)]\n",
    "t = Table([a,b,c,[int(round(Vlsr[i]))],[W_20[i]],[W_50[i]],[round(Int_flux[i],2)],[int(round(Distance[i]))],[round(HI_Mass[i],2)]], names=(r'Source ID', 'l [deg]', 'b [deg]',r'$V_{sys}$ [km/s]',r'$w_{_{20}}$ [km/s]',r'$w_{_{50}}$ [km/s]',r'$S_{_{int}}$ [Jy km/s]','D [Mpc]',r'log $\\left(M_{HI}\\right)$'))\n",
    "for i in range(1,nf):\n",
    "    t.add_row([source_id[i],round(Glon[i],2),round(Glat[i],2),int(round(Vlsr[i])),W_20[i],W_50[i],round(Int_flux[i],2),int(round(Distance[i])),round(HI_Mass[i],2)])\n",
    "\n",
    "t    "
   ]
  },
  {
   "cell_type": "markdown",
   "metadata": {
    "collapsed": true
   },
   "source": [
    "### $\\hspace{8cm}$ TO BE CONTINUED!!!!!!!!!"
   ]
  },
  {
   "cell_type": "code",
   "execution_count": 24,
   "metadata": {
    "collapsed": false
   },
   "outputs": [],
   "source": [
    "header1 = header[:-10]\n",
    "header1.update({'NAXIS': 2})\n",
    "header1.remove('NAXIS3')\n",
    "header1.insert('CUNIT2', ('BUNIT', 'Jy m/s'), after=True) #Header.get('BUNIT')\n",
    "header1.insert('BUNIT', ('EPOCH', header.get('EPOCH')), after=True)\n",
    "header1.insert('EPOCH', ('BMAJ', BMAJ), after=True)\n",
    "header1.insert('BMAJ', ('BMIN', BMIN), after=True)\n",
    "header1.insert('BMIN', ('BPA', 0.0), after=True)"
   ]
  },
  {
   "cell_type": "code",
   "execution_count": null,
   "metadata": {
    "collapsed": false
   },
   "outputs": [],
   "source": []
  },
  {
   "cell_type": "code",
   "execution_count": 3,
   "metadata": {
    "collapsed": true
   },
   "outputs": [],
   "source": [
    "import aplpy\n",
    "from astropy import units as u\n"
   ]
  },
  {
   "cell_type": "code",
   "execution_count": 4,
   "metadata": {
    "collapsed": false
   },
   "outputs": [],
   "source": [
    "#fits.writeto('Test.fits',data=mom0,header=header1,clobber=True)"
   ]
  },
  {
   "cell_type": "code",
   "execution_count": 5,
   "metadata": {
    "collapsed": false
   },
   "outputs": [
    {
     "ename": "IOError",
     "evalue": "File not found: Test.fits",
     "output_type": "error",
     "traceback": [
      "\u001b[0;31m---------------------------------------------------------------------------\u001b[0m",
      "\u001b[0;31mIOError\u001b[0m                                   Traceback (most recent call last)",
      "\u001b[0;32m<ipython-input-5-76d24dc2c53e>\u001b[0m in \u001b[0;36m<module>\u001b[0;34m()\u001b[0m\n\u001b[0;32m----> 1\u001b[0;31m \u001b[0mfig\u001b[0m \u001b[0;34m=\u001b[0m \u001b[0maplpy\u001b[0m\u001b[0;34m.\u001b[0m\u001b[0mFITSFigure\u001b[0m\u001b[0;34m(\u001b[0m\u001b[0;34m'Test.fits'\u001b[0m\u001b[0;34m)\u001b[0m\u001b[0;34m\u001b[0m\u001b[0m\n\u001b[0m\u001b[1;32m      2\u001b[0m \u001b[0mfig\u001b[0m\u001b[0;34m.\u001b[0m\u001b[0mshow_colorscale\u001b[0m\u001b[0;34m(\u001b[0m\u001b[0mstretch\u001b[0m\u001b[0;34m=\u001b[0m\u001b[0;34m'sqrt'\u001b[0m\u001b[0;34m,\u001b[0m\u001b[0minterpolation\u001b[0m\u001b[0;34m=\u001b[0m\u001b[0;34m'none'\u001b[0m\u001b[0;34m)\u001b[0m\u001b[0;34m\u001b[0m\u001b[0m\n\u001b[1;32m      3\u001b[0m \u001b[0;31m#fig.add_beam()\u001b[0m\u001b[0;34m\u001b[0m\u001b[0;34m\u001b[0m\u001b[0m\n\u001b[1;32m      4\u001b[0m \u001b[0ml\u001b[0m \u001b[0;34m=\u001b[0m \u001b[0;36m2\u001b[0m\u001b[0;34m*\u001b[0m\u001b[0mu\u001b[0m\u001b[0;34m.\u001b[0m\u001b[0marcmin\u001b[0m\u001b[0;34m\u001b[0m\u001b[0m\n\u001b[1;32m      5\u001b[0m \u001b[0mfig\u001b[0m\u001b[0;34m.\u001b[0m\u001b[0madd_colorbar\u001b[0m\u001b[0;34m(\u001b[0m\u001b[0;34m)\u001b[0m\u001b[0;34m\u001b[0m\u001b[0m\n",
      "\u001b[0;32m/Users/themba/anaconda2/lib/python2.7/site-packages/aplpy/core.pyc\u001b[0m in \u001b[0;36m__init__\u001b[0;34m(self, data, hdu, figure, subplot, downsample, north, convention, dimensions, slices, auto_refresh, **kwargs)\u001b[0m\n",
      "\u001b[0;32m/Users/themba/anaconda2/lib/python2.7/site-packages/aplpy/decorators.pyc\u001b[0m in \u001b[0;36m_auto_refresh\u001b[0;34m(f, *args, **kwargs)\u001b[0m\n\u001b[1;32m     23\u001b[0m     \u001b[0mmydata\u001b[0m\u001b[0;34m.\u001b[0m\u001b[0mnesting\u001b[0m \u001b[0;34m=\u001b[0m \u001b[0mgetattr\u001b[0m\u001b[0;34m(\u001b[0m\u001b[0mmydata\u001b[0m\u001b[0;34m,\u001b[0m \u001b[0;34m'nesting'\u001b[0m\u001b[0;34m,\u001b[0m \u001b[0;36m0\u001b[0m\u001b[0;34m)\u001b[0m \u001b[0;34m+\u001b[0m \u001b[0;36m1\u001b[0m\u001b[0;34m\u001b[0m\u001b[0m\n\u001b[1;32m     24\u001b[0m     \u001b[0;32mtry\u001b[0m\u001b[0;34m:\u001b[0m\u001b[0;34m\u001b[0m\u001b[0m\n\u001b[0;32m---> 25\u001b[0;31m         \u001b[0;32mreturn\u001b[0m \u001b[0mf\u001b[0m\u001b[0;34m(\u001b[0m\u001b[0;34m*\u001b[0m\u001b[0margs\u001b[0m\u001b[0;34m,\u001b[0m \u001b[0;34m**\u001b[0m\u001b[0mkwargs\u001b[0m\u001b[0;34m)\u001b[0m\u001b[0;34m\u001b[0m\u001b[0m\n\u001b[0m\u001b[1;32m     26\u001b[0m     \u001b[0;32mfinally\u001b[0m\u001b[0;34m:\u001b[0m\u001b[0;34m\u001b[0m\u001b[0m\n\u001b[1;32m     27\u001b[0m         \u001b[0mmydata\u001b[0m\u001b[0;34m.\u001b[0m\u001b[0mnesting\u001b[0m \u001b[0;34m-=\u001b[0m \u001b[0;36m1\u001b[0m\u001b[0;34m\u001b[0m\u001b[0m\n",
      "\u001b[0;32m/Users/themba/anaconda2/lib/python2.7/site-packages/aplpy/core.pyc\u001b[0m in \u001b[0;36m__init__\u001b[0;34m(self, data, hdu, figure, subplot, downsample, north, convention, dimensions, slices, auto_refresh, **kwargs)\u001b[0m\n\u001b[1;32m    215\u001b[0m         \u001b[0;32melse\u001b[0m\u001b[0;34m:\u001b[0m\u001b[0;34m\u001b[0m\u001b[0m\n\u001b[1;32m    216\u001b[0m             self._data, self._header, self._wcs = self._get_hdu(data, hdu, north, \\\n\u001b[0;32m--> 217\u001b[0;31m                 convention=convention, dimensions=dimensions, slices=slices)\n\u001b[0m\u001b[1;32m    218\u001b[0m             \u001b[0mself\u001b[0m\u001b[0;34m.\u001b[0m\u001b[0m_wcs\u001b[0m\u001b[0;34m.\u001b[0m\u001b[0mnx\u001b[0m \u001b[0;34m=\u001b[0m \u001b[0mself\u001b[0m\u001b[0;34m.\u001b[0m\u001b[0m_header\u001b[0m\u001b[0;34m[\u001b[0m\u001b[0;34m'NAXIS%i'\u001b[0m \u001b[0;34m%\u001b[0m \u001b[0;34m(\u001b[0m\u001b[0mdimensions\u001b[0m\u001b[0;34m[\u001b[0m\u001b[0;36m0\u001b[0m\u001b[0;34m]\u001b[0m \u001b[0;34m+\u001b[0m \u001b[0;36m1\u001b[0m\u001b[0;34m)\u001b[0m\u001b[0;34m]\u001b[0m\u001b[0;34m\u001b[0m\u001b[0m\n\u001b[1;32m    219\u001b[0m             \u001b[0mself\u001b[0m\u001b[0;34m.\u001b[0m\u001b[0m_wcs\u001b[0m\u001b[0;34m.\u001b[0m\u001b[0mny\u001b[0m \u001b[0;34m=\u001b[0m \u001b[0mself\u001b[0m\u001b[0;34m.\u001b[0m\u001b[0m_header\u001b[0m\u001b[0;34m[\u001b[0m\u001b[0;34m'NAXIS%i'\u001b[0m \u001b[0;34m%\u001b[0m \u001b[0;34m(\u001b[0m\u001b[0mdimensions\u001b[0m\u001b[0;34m[\u001b[0m\u001b[0;36m1\u001b[0m\u001b[0;34m]\u001b[0m \u001b[0;34m+\u001b[0m \u001b[0;36m1\u001b[0m\u001b[0;34m)\u001b[0m\u001b[0;34m]\u001b[0m\u001b[0;34m\u001b[0m\u001b[0m\n",
      "\u001b[0;32m/Users/themba/anaconda2/lib/python2.7/site-packages/aplpy/core.pyc\u001b[0m in \u001b[0;36m_get_hdu\u001b[0;34m(self, data, hdu, north, convention, dimensions, slices)\u001b[0m\n\u001b[1;32m    297\u001b[0m             \u001b[0;31m# Check file exists\u001b[0m\u001b[0;34m\u001b[0m\u001b[0;34m\u001b[0m\u001b[0m\n\u001b[1;32m    298\u001b[0m             \u001b[0;32mif\u001b[0m \u001b[0;32mnot\u001b[0m \u001b[0mos\u001b[0m\u001b[0;34m.\u001b[0m\u001b[0mpath\u001b[0m\u001b[0;34m.\u001b[0m\u001b[0mexists\u001b[0m\u001b[0;34m(\u001b[0m\u001b[0mfilename\u001b[0m\u001b[0;34m)\u001b[0m\u001b[0;34m:\u001b[0m\u001b[0;34m\u001b[0m\u001b[0m\n\u001b[0;32m--> 299\u001b[0;31m                 \u001b[0;32mraise\u001b[0m \u001b[0mIOError\u001b[0m\u001b[0;34m(\u001b[0m\u001b[0;34m\"File not found: \"\u001b[0m \u001b[0;34m+\u001b[0m \u001b[0mfilename\u001b[0m\u001b[0;34m)\u001b[0m\u001b[0;34m\u001b[0m\u001b[0m\n\u001b[0m\u001b[1;32m    300\u001b[0m \u001b[0;34m\u001b[0m\u001b[0m\n\u001b[1;32m    301\u001b[0m             \u001b[0;31m# Read in FITS file\u001b[0m\u001b[0;34m\u001b[0m\u001b[0;34m\u001b[0m\u001b[0m\n",
      "\u001b[0;31mIOError\u001b[0m: File not found: Test.fits"
     ]
    }
   ],
   "source": [
    "import aplpy\n",
    "from astropy import units as u\n",
    "\n",
    "fig = aplpy.FITSFigure('../Scripts/')\n",
    "fig.show_colorscale(stretch='sqrt',interpolation='none')\n",
    "#fig.add_beam()\n",
    "l = 2*u.arcmin\n",
    "fig.add_colorbar()\n",
    "fig.colorbar.set_font(size=20)\n",
    "fig.colorbar.set_axis_label_text('Flux (Jy km/s)')\n",
    "fig.colorbar.set_axis_label_font(size=24, weight='bold')\n",
    "fig.set_axis_labels_font(size=20, weight='bold')\n",
    "fig.add_scalebar(length=l)\n",
    "fig.scalebar.show(l)\n",
    "fig.scalebar.set_label(l)\n",
    "fig.set_tick_labels_size(size=15)\n",
    "fig.scalebar.set(linestyle='solid', color='k',size=20,linewidth=5,weight='bold')\n",
    "fig.set_theme('publication')\n",
    "fig.show_contour(levels=10)\n",
    "fig.add_beam()\n",
    "fig.beam.set_corner('bottom left')\n",
    "#fig.beam.set_major(23. * u.arcsec)\n",
    "#fig.beam.set_minor(16. * u.arcsec)\n",
    "#fig.savefig('Presentation/mom01.pdf')\n",
    "plt.show()\n"
   ]
  },
  {
   "cell_type": "code",
   "execution_count": 4,
   "metadata": {
    "collapsed": false
   },
   "outputs": [],
   "source": [
    "din = open(\"/Volumes/THEMBA/Real/ppmos1/linewidths/Thembs.txt\").readlines()\n",
    "f,vel = [],[]\n",
    "for x in din[6:]:\n",
    "    x=x.split()\n",
    "    vel.append(float(x[1]))\n",
    "    f.append(float(x[-1]))"
   ]
  },
  {
   "cell_type": "code",
   "execution_count": 25,
   "metadata": {
    "collapsed": false
   },
   "outputs": [
    {
     "data": {
      "image/png": "[encoded data removed]",
      "text/plain": [
       "<matplotlib.figure.Figure at 0x113bf9a50>"
      ]
     },
     "metadata": {},
     "output_type": "display_data"
    }
   ],
   "source": [
    "plt.figure(figsize=(7,7))\n",
    "plt.plot(vel,f)\n",
    "plt.xlabel(r'$\\mathrm{V_{sys} \\, [km\\,s^{-1}}]$',fontsize=24)\n",
    "plt.ylabel(r'$\\mathrm{Flux \\,\\,[Jy]}$',fontsize=24)\n",
    "plt.xticks(fontsize=16)\n",
    "plt.yticks(fontsize=16)\n",
    "plt.hlines(0,6500,7800,linestyles='--',colors='r')\n",
    "plt.xlim(6500,7800)\n",
    "#plt.ticklabel_format(style='sci', axis='x', scilimits=(0,0))\n",
    "plt.savefig('/Users/themba/Documents/MSc/Presentation/global_pres.pdf')\n",
    "plt.show()"
   ]
  },
  {
   "cell_type": "code",
   "execution_count": 57,
   "metadata": {
    "collapsed": false
   },
   "outputs": [
    {
     "data": {
      "text/plain": [
       "['#File: /Volumes/THEMBA/Real/ppmos1/P_709\\xef\\x80\\xa2165\\xef\\x80\\xa2563.mir\\n',\n",
       " '#Robust polynomial order:    1\\n',\n",
       " '#Spectral  axis = VELO     \\n',\n",
       " '#Intensity axis = Jy\\n',\n",
       " '# 4:58:9.97+46:2:25.9\\n',\n",
       " '#  Channel        Spectral axis      Intensity\\n',\n",
       " ' 1.60000E+01      6.466340332E+03   -6.99816E-04\\n',\n",
       " ' 1.70000E+01      6.474760742E+03   -8.02395E-04\\n',\n",
       " ' 1.80000E+01      6.483181641E+03   -5.98668E-04\\n',\n",
       " ' 1.90000E+01      6.491602539E+03   -3.33062E-04\\n',\n",
       " ' 2.00000E+01      6.500023926E+03   -4.53383E-04\\n',\n",
       " ' 2.10000E+01      6.508445312E+03   -7.17228E-04\\n',\n",
       " ' 2.20000E+01      6.516867188E+03   -3.70027E-04\\n',\n",
       " ' 2.30000E+01      6.525289062E+03    3.90817E-04\\n',\n",
       " ' 2.40000E+01      6.533710938E+03    6.22513E-04\\n',\n",
       " ' 2.50000E+01      6.542133301E+03    4.55503E-04\\n',\n",
       " ' 2.60000E+01      6.550556152E+03    3.71215E-04\\n',\n",
       " ' 2.70000E+01      6.558979004E+03    7.74269E-05\\n',\n",
       " ' 2.80000E+01      6.567401855E+03   -3.94543E-04\\n',\n",
       " ' 2.90000E+01      6.575825195E+03   -6.35747E-04\\n',\n",
       " ' 3.00000E+01      6.584249023E+03   -7.34917E-04\\n',\n",
       " ' 3.10000E+01      6.592672363E+03   -4.82677E-04\\n',\n",
       " ' 3.20000E+01      6.601096680E+03    4.31409E-04\\n',\n",
       " ' 3.30000E+01      6.609520508E+03    1.13137E-03\\n',\n",
       " ' 3.40000E+01      6.617944824E+03    1.05452E-03\\n',\n",
       " ' 3.50000E+01      6.626369629E+03    9.19848E-04\\n',\n",
       " ' 3.60000E+01      6.634794434E+03    8.49101E-04\\n',\n",
       " ' 3.70000E+01      6.643219727E+03    4.87732E-04\\n',\n",
       " ' 3.80000E+01      6.651645020E+03    2.39456E-04\\n',\n",
       " ' 3.90000E+01      6.660070312E+03    2.98214E-04\\n',\n",
       " ' 4.00000E+01      6.668496094E+03    2.77694E-04\\n',\n",
       " ' 4.10000E+01      6.676922363E+03    3.05472E-04\\n',\n",
       " ' 4.20000E+01      6.685348633E+03    8.39093E-04\\n',\n",
       " ' 4.30000E+01      6.693774902E+03    1.41378E-03\\n',\n",
       " ' 4.40000E+01      6.702201660E+03    1.02367E-03\\n',\n",
       " ' 4.50000E+01      6.710628418E+03    7.13995E-05\\n',\n",
       " ' 4.60000E+01      6.719055664E+03    4.54120E-05\\n',\n",
       " ' 4.70000E+01      6.727482910E+03    9.54809E-04\\n',\n",
       " ' 4.80000E+01      6.735910645E+03    1.51093E-03\\n',\n",
       " ' 4.90000E+01      6.744338379E+03    1.45425E-03\\n',\n",
       " ' 5.00000E+01      6.752766602E+03    1.13832E-03\\n',\n",
       " ' 5.10000E+01      6.761194824E+03    5.16719E-04\\n',\n",
       " ' 5.20000E+01      6.769623047E+03   -1.18670E-05\\n',\n",
       " ' 5.30000E+01      6.778051758E+03   -1.07234E-04\\n',\n",
       " ' 5.40000E+01      6.786480957E+03   -1.29593E-04\\n',\n",
       " ' 5.50000E+01      6.794910156E+03   -3.77532E-05\\n',\n",
       " ' 5.60000E+01      6.803339355E+03    5.83773E-04\\n',\n",
       " ' 5.70000E+01      6.811769043E+03    1.27867E-03\\n',\n",
       " ' 5.80000E+01      6.820198730E+03    1.16057E-03\\n',\n",
       " ' 5.90000E+01      6.828628906E+03    5.85223E-04\\n',\n",
       " ' 6.00000E+01      6.837059082E+03    4.53987E-04\\n',\n",
       " ' 6.10000E+01      6.845489746E+03    4.34399E-04\\n',\n",
       " ' 6.20000E+01      6.853920410E+03    1.60554E-05\\n',\n",
       " ' 6.30000E+01      6.862351562E+03   -3.45119E-04\\n',\n",
       " ' 6.40000E+01      6.870782715E+03   -4.55617E-04\\n',\n",
       " ' 6.50000E+01      6.879213867E+03   -4.30615E-04\\n',\n",
       " ' 6.60000E+01      6.887645508E+03   -1.87381E-04\\n',\n",
       " ' 6.70000E+01      6.896077637E+03   -2.91216E-04\\n',\n",
       " ' 6.80000E+01      6.904509766E+03   -8.16223E-04\\n',\n",
       " ' 6.90000E+01      6.912941895E+03   -7.67513E-04\\n',\n",
       " ' 7.00000E+01      6.921374512E+03   -2.11434E-04\\n',\n",
       " ' 7.10000E+01      6.929807129E+03   -2.48966E-05\\n',\n",
       " ' 7.20000E+01      6.938240234E+03   -5.26405E-04\\n',\n",
       " ' 7.30000E+01      6.946673828E+03   -1.46245E-03\\n',\n",
       " ' 7.40000E+01      6.955106934E+03   -1.95645E-03\\n',\n",
       " ' 7.50000E+01      6.963540527E+03   -1.45459E-03\\n',\n",
       " ' 7.60000E+01      6.971974609E+03   -7.75703E-04\\n',\n",
       " ' 7.70000E+01      6.980408691E+03   -1.05449E-03\\n',\n",
       " ' 7.80000E+01      6.988843262E+03   -2.03083E-03\\n',\n",
       " ' 7.90000E+01      6.997277832E+03   -2.57091E-03\\n',\n",
       " ' 8.00000E+01      7.005712402E+03   -2.44330E-03\\n',\n",
       " ' 8.10000E+01      7.014147461E+03   -2.05490E-03\\n',\n",
       " ' 8.20000E+01      7.022583008E+03   -1.52600E-03\\n',\n",
       " ' 8.30000E+01      7.031018555E+03   -9.04003E-04\\n',\n",
       " ' 8.40000E+01      7.039454102E+03   -2.23204E-04\\n',\n",
       " ' 8.50000E+01      7.047890137E+03    1.05114E-04\\n',\n",
       " ' 8.60000E+01      7.056326172E+03   -2.65351E-04\\n',\n",
       " ' 8.70000E+01      7.064762695E+03   -3.78884E-04\\n',\n",
       " ' 8.80000E+01      7.073199219E+03    3.62204E-04\\n',\n",
       " ' 8.90000E+01      7.081636230E+03    1.09971E-03\\n',\n",
       " ' 9.00000E+01      7.090073242E+03    1.83790E-03\\n',\n",
       " ' 9.10000E+01      7.098510742E+03    3.34007E-03\\n',\n",
       " ' 9.20000E+01      7.106948242E+03    4.95638E-03\\n',\n",
       " ' 9.30000E+01      7.115385742E+03    5.70235E-03\\n',\n",
       " ' 9.40000E+01      7.123823730E+03    5.58906E-03\\n',\n",
       " ' 9.50000E+01      7.132262207E+03    4.77391E-03\\n',\n",
       " ' 9.60000E+01      7.140700684E+03    3.64637E-03\\n',\n",
       " ' 9.70000E+01      7.149139160E+03    3.02745E-03\\n',\n",
       " ' 9.80000E+01      7.157578125E+03    3.27038E-03\\n',\n",
       " ' 9.90000E+01      7.166017090E+03    3.85974E-03\\n',\n",
       " ' 1.00000E+02      7.174456543E+03    4.06771E-03\\n',\n",
       " ' 1.01000E+02      7.182895996E+03    3.86762E-03\\n',\n",
       " ' 1.02000E+02      7.191335938E+03    3.72387E-03\\n',\n",
       " ' 1.03000E+02      7.199775879E+03    3.76194E-03\\n',\n",
       " ' 1.04000E+02      7.208216309E+03    3.67706E-03\\n',\n",
       " ' 1.05000E+02      7.216656738E+03    3.34012E-03\\n',\n",
       " ' 1.06000E+02      7.225097656E+03    3.22879E-03\\n',\n",
       " ' 1.07000E+02      7.233538574E+03    3.81197E-03\\n',\n",
       " ' 1.08000E+02      7.241979492E+03    4.76499E-03\\n',\n",
       " ' 1.09000E+02      7.250420898E+03    5.27603E-03\\n',\n",
       " ' 1.10000E+02      7.258862305E+03    4.91244E-03\\n',\n",
       " ' 1.11000E+02      7.267304199E+03    4.29423E-03\\n',\n",
       " ' 1.12000E+02      7.275746582E+03    4.31688E-03\\n',\n",
       " ' 1.13000E+02      7.284188965E+03    4.45939E-03\\n',\n",
       " ' 1.14000E+02      7.292631348E+03    3.71267E-03\\n',\n",
       " ' 1.15000E+02      7.301074219E+03    2.54272E-03\\n',\n",
       " ' 1.16000E+02      7.309517090E+03    1.61171E-03\\n',\n",
       " ' 1.17000E+02      7.317959961E+03    7.67569E-04\\n',\n",
       " ' 1.18000E+02      7.326403809E+03    2.91582E-04\\n',\n",
       " ' 1.19000E+02      7.334847168E+03    1.02489E-04\\n',\n",
       " ' 1.20000E+02      7.343291016E+03   -4.91091E-04\\n',\n",
       " ' 1.21000E+02      7.351735352E+03   -1.24751E-03\\n',\n",
       " ' 1.22000E+02      7.360179688E+03   -1.56512E-03\\n',\n",
       " ' 1.23000E+02      7.368624023E+03   -1.34387E-03\\n',\n",
       " ' 1.24000E+02      7.377068848E+03   -9.70511E-04\\n',\n",
       " ' 1.25000E+02      7.385513672E+03   -6.54782E-04\\n',\n",
       " ' 1.26000E+02      7.393958984E+03   -1.68467E-04\\n',\n",
       " ' 1.27000E+02      7.402404785E+03    2.30711E-04\\n',\n",
       " ' 1.28000E+02      7.410850098E+03    3.58271E-04\\n',\n",
       " ' 1.29000E+02      7.419296387E+03    3.85760E-04\\n',\n",
       " ' 1.30000E+02      7.427742188E+03    1.69854E-04\\n',\n",
       " ' 1.31000E+02      7.436188477E+03   -1.52805E-04\\n',\n",
       " ' 1.32000E+02      7.444635254E+03   -4.86289E-04\\n',\n",
       " ' 1.33000E+02      7.453082031E+03   -1.05628E-03\\n',\n",
       " ' 1.34000E+02      7.461529297E+03   -1.40905E-03\\n',\n",
       " ' 1.35000E+02      7.469976562E+03   -1.32567E-03\\n',\n",
       " ' 1.36000E+02      7.478423828E+03   -1.49193E-03\\n',\n",
       " ' 1.37000E+02      7.486871582E+03   -1.75238E-03\\n',\n",
       " ' 1.38000E+02      7.495319824E+03   -1.29150E-03\\n',\n",
       " ' 1.39000E+02      7.503767578E+03   -3.61001E-04\\n',\n",
       " ' 1.40000E+02      7.512216309E+03    2.25973E-04\\n',\n",
       " ' 1.41000E+02      7.520664551E+03    8.85124E-05\\n',\n",
       " ' 1.42000E+02      7.529113770E+03   -6.69299E-04\\n',\n",
       " ' 1.43000E+02      7.537562500E+03   -1.58654E-03\\n',\n",
       " ' 1.44000E+02      7.546012207E+03   -2.12667E-03\\n',\n",
       " ' 1.45000E+02      7.554461426E+03   -1.68137E-03\\n',\n",
       " ' 1.46000E+02      7.562911133E+03   -4.05745E-04\\n',\n",
       " ' 1.47000E+02      7.571361328E+03    4.03965E-04\\n',\n",
       " ' 1.48000E+02      7.579811523E+03    2.72779E-04\\n',\n",
       " ' 1.49000E+02      7.588261719E+03   -2.15278E-04\\n',\n",
       " ' 1.50000E+02      7.596712402E+03   -6.24441E-04\\n',\n",
       " ' 1.51000E+02      7.605163574E+03   -5.64926E-04\\n',\n",
       " ' 1.52000E+02      7.613614746E+03   -1.95711E-04\\n',\n",
       " ' 1.53000E+02      7.622065918E+03   -9.56142E-06\\n',\n",
       " ' 1.54000E+02      7.630517578E+03   -5.21695E-05\\n',\n",
       " ' 1.55000E+02      7.638969238E+03   -2.30831E-04\\n',\n",
       " ' 1.56000E+02      7.647421387E+03   -2.44373E-04\\n',\n",
       " ' 1.57000E+02      7.655873535E+03   -1.06484E-05\\n',\n",
       " ' 1.58000E+02      7.664326172E+03    9.50920E-05\\n',\n",
       " ' 1.59000E+02      7.672778809E+03   -8.10876E-05\\n',\n",
       " ' 1.60000E+02      7.681231934E+03   -2.85426E-04\\n',\n",
       " ' 1.61000E+02      7.689685059E+03   -6.91590E-05\\n',\n",
       " ' 1.62000E+02      7.698138184E+03    3.00136E-04\\n',\n",
       " ' 1.63000E+02      7.706591797E+03    3.59171E-05\\n',\n",
       " ' 1.64000E+02      7.715045898E+03   -5.02262E-04\\n',\n",
       " ' 1.65000E+02      7.723500000E+03   -2.86384E-04\\n',\n",
       " ' 1.66000E+02      7.731954102E+03    5.56957E-04\\n',\n",
       " ' 1.67000E+02      7.740408691E+03    1.10479E-03\\n',\n",
       " ' 1.68000E+02      7.748863281E+03    1.07256E-03\\n',\n",
       " ' 1.69000E+02      7.757318359E+03    5.86901E-04\\n',\n",
       " ' 1.70000E+02      7.765773438E+03   -2.83809E-04\\n',\n",
       " ' 1.71000E+02      7.774229004E+03   -9.44446E-04\\n',\n",
       " ' 1.72000E+02      7.782684570E+03   -7.18177E-04\\n',\n",
       " ' 1.73000E+02      7.791140625E+03    8.99581E-05\\n',\n",
       " ' 1.74000E+02      7.799596680E+03    8.41388E-04\\n',\n",
       " ' 1.75000E+02      7.808052734E+03    1.50402E-03\\n',\n",
       " ' 1.76000E+02      7.816509277E+03    1.95892E-03\\n',\n",
       " ' 1.77000E+02      7.824966309E+03    1.67873E-03\\n',\n",
       " ' 1.78000E+02      7.833423340E+03    9.80053E-04\\n',\n",
       " ' 1.79000E+02      7.841880371E+03    6.66987E-04\\n',\n",
       " ' 1.80000E+02      7.850337891E+03    5.80138E-04\\n',\n",
       " ' 1.81000E+02      7.858795410E+03    5.90523E-04\\n',\n",
       " ' 1.82000E+02      7.867253418E+03    6.98541E-04\\n',\n",
       " ' 1.83000E+02      7.875711426E+03    4.23338E-04\\n',\n",
       " ' 1.84000E+02      7.884169922E+03    8.32606E-05\\n',\n",
       " ' 1.85000E+02      7.892628418E+03    5.85744E-05\\n',\n",
       " ' 1.86000E+02      7.901087402E+03    7.69982E-05\\n',\n",
       " ' 1.87000E+02      7.909546387E+03    5.70266E-05\\n',\n",
       " ' 1.88000E+02      7.918005371E+03   -4.47991E-05\\n',\n",
       " ' 1.89000E+02      7.926464844E+03    7.93069E-05\\n',\n",
       " ' 1.90000E+02      7.934924805E+03    5.30636E-04\\n']"
      ]
     },
     "execution_count": 57,
     "metadata": {},
     "output_type": "execute_result"
    }
   ],
   "source": [
    "din"
   ]
  },
  {
   "cell_type": "code",
   "execution_count": null,
   "metadata": {
    "collapsed": true
   },
   "outputs": [],
   "source": []
  }
 ],
 "metadata": {
  "anaconda-cloud": {},
  "kernelspec": {
   "display_name": "Python [default]",
   "language": "python",
   "name": "python2"
  },
  "language_info": {
   "codemirror_mode": {
    "name": "ipython",
    "version": 2
   },
   "file_extension": ".py",
   "mimetype": "text/x-python",
   "name": "python",
   "nbconvert_exporter": "python",
   "pygments_lexer": "ipython2",
   "version": "2.7.13"
  }
 },
 "nbformat": 4,
 "nbformat_minor": 1
}
