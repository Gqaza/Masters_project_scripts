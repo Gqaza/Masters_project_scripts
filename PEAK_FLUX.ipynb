{
 "cells": [
  {
   "cell_type": "code",
   "execution_count": 187,
   "metadata": {
    "collapsed": true
   },
   "outputs": [],
   "source": [
    "from astropy.io import fits\n",
    "import numpy as np\n",
    "from scipy import log10\n",
    "import pandas as pd\n",
    "from astropy.coordinates import SkyCoord\n",
    "from astropy import wcs, units\n",
    "from matplotlib import pylab as plt"
   ]
  },
  {
   "cell_type": "code",
   "execution_count": 183,
   "metadata": {
    "collapsed": false
   },
   "outputs": [],
   "source": [
    "visual =pd.read_csv(\"/Users/themba/Documents/MSc/Thesis/Catalogue/FINAL_PRODUCT/Visual-catalog\", sep='\\t')\n",
    "peak = open(\"/Users/themba/Documents/MSc/Thesis/Catalogue/FINAL_PRODUCT/peak_flux_visual\",'r').readlines()\n",
    "coord,Peak=[],[]\n",
    "for line in peak:\n",
    "    n,p =line.split()\n",
    "    coord.append(n)\n",
    "    Peak.append(float(p))"
   ]
  },
  {
   "cell_type": "code",
   "execution_count": 136,
   "metadata": {
    "collapsed": false
   },
   "outputs": [],
   "source": [
    "def HnD(j):\n",
    "    hdu = fits.open('/Volumes/Themba/MSc/Real/ppmosALL_'+str(j)+'_kms.fits')\n",
    "    Header = hdu[0].header\n",
    "    cube = hdu[0].data\n",
    "    Header.set('ctype3', 'velo')\n",
    "    w = wcs.WCS(Header)\n",
    "    return cube, w"
   ]
  },
  {
   "cell_type": "code",
   "execution_count": 132,
   "metadata": {
    "collapsed": false
   },
   "outputs": [],
   "source": [
    "def Gal2Eqx2Pix(lat,lon,vel,w):\n",
    "    J=SkyCoord(\"galactic\", l=str(lat)+\"deg\", b=str(lon)+\"deg\")\n",
    "    Y=(J.fk5).to_string()\n",
    "    ra1,dec1=Y.split()\n",
    "    ra,dec=float(ra1),float(dec1)\n",
    "\n",
    "    x,y,z = w.all_world2pix(ra,  dec, vel, 0)\n",
    "    return int(round(x)),int(round(y)),int(round(z))"
   ]
  },
  {
   "cell_type": "code",
   "execution_count": null,
   "metadata": {
    "collapsed": false
   },
   "outputs": [],
   "source": [
    "for i in range(186,187):\n",
    "    line = visual[visual.index==i]\n",
    "    j=line.ppmos.values[0]\n",
    "    l=line.l.values[0]\n",
    "    b=line.b.values[0]\n",
    "    vel=line.vel.values[0]\n",
    "    data,w = HnD(j)\n",
    "    x,y,z=Gal2Eqx2Pix(l,b,vel,w)\n",
    "    cube = data[z-10:z+10,y-5:y+5,x-5:x+5]\n",
    "    print i, str(x)+':'+str(y)+':'+str(z),' Peak= '+str(np.max(cube)*1e3)\n",
    "        "
   ]
  },
  {
   "cell_type": "code",
   "execution_count": 234,
   "metadata": {
    "collapsed": false
   },
   "outputs": [
    {
     "data": {
      "image/png": "[encoded data removed]",
      "text/plain": [
       "<matplotlib.figure.Figure at 0x1149888d0>"
      ]
     },
     "metadata": {},
     "output_type": "display_data"
    }
   ],
   "source": [
    "plt.hist(visual.Peak,bins=10)\n",
    "#plt.xticks(np.arange(-.2,1.2,.2))\n",
    "#plt.ylim(0,45)\n",
    "#plt.xlim(-0.1,1.1)\n",
    "plt.show()"
   ]
  },
  {
   "cell_type": "code",
   "execution_count": 214,
   "metadata": {
    "collapsed": false
   },
   "outputs": [
    {
     "data": {
      "text/plain": [
       "(0.044853217267731532, 0.98355412420626043)"
      ]
     },
     "execution_count": 214,
     "metadata": {},
     "output_type": "execute_result"
    }
   ],
   "source": [
    "log10(visual.Peak.min()),log10(visual.Peak.max())"
   ]
  },
  {
   "cell_type": "markdown",
   "metadata": {},
   "source": [
    "#### "
   ]
  }
 ],
 "metadata": {
  "kernelspec": {
   "display_name": "Python [default]",
   "language": "python",
   "name": "python2"
  },
  "language_info": {
   "codemirror_mode": {
    "name": "ipython",
    "version": 2
   },
   "file_extension": ".py",
   "mimetype": "text/x-python",
   "name": "python",
   "nbconvert_exporter": "python",
   "pygments_lexer": "ipython2",
   "version": "2.7.13"
  }
 },
 "nbformat": 4,
 "nbformat_minor": 2
}
