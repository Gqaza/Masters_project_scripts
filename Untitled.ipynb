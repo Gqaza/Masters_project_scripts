{
 "cells": [
  {
   "cell_type": "markdown",
   "metadata": {},
   "source": [
    "###  Line widths and Global profiles\n",
    "\n",
    "\n",
    "We use mbspect from Miriad to calculate the integrated flux and linewidths.  Mbspect plots a spectrum of a miriad data file.  The spectrum is integrated over a velocity range of interest. Robust spectral baselines are fitted and the profile is parameterised.\n",
    "\n",
    "\n",
    "#### Methodology \n",
    "\n",
    "The followed the steps detailed below:\n",
    "\n",
    "* Fit a baseline polynomial of order 1-3.\n",
    "* Identify the profile window.\n",
    "* Mask the profile window and any regions that contain continuum lines.\n",
    "* Apply a hanning smoothing.\n",
    "* Measure line widths, integrated flux and systemic velocity within the identified profile \n",
    "    window. \n",
    "* Write outputs into log file.\n",
    "\n",
    "\n",
    "\n",
    "### MBSPECT input and output parameters\n",
    "\n"
   ]
  },
  {
   "cell_type": "code",
   "execution_count": 15,
   "metadata": {
    "collapsed": false
   },
   "outputs": [],
   "source": [
    "from IPython.display import Image\n",
    "from mirpy import miriad\n",
    "test = '/media/themba/c18d84e6-53eb-44c6-be34-18234c64ea16/MSc/ppmos6/Results/linewidths/P_71:382:262.mir/'\n",
    "data = '/media/themba/c18d84e6-53eb-44c6-be34-18234c64ea16/MSc/ppmos6/Results/linewidths/Data_P_71:382:262.txt/'\n",
    "m=miriad.mbspect(In=test,hann='3',order=1,options=\"measure\",mask=(4555,4705),profile=(4555,4705)\n",
    "               ,log ='Test.txt',device=\"/xs\")\n",
    "n = m.split('\\n')\n"
   ]
  },
  {
   "cell_type": "markdown",
   "metadata": {},
   "source": [
    "![title](test.png)\n",
    "**Figure 1:  A global profile of a galaxy P045026.29+451137.0 from ppmos6.  The red vertical dotted lines mark the spectral window, while the horizontal red lines shows the baseline fit.  The blue dots mark the peak flux, 50% and 20% linewidths.**\n",
    "\n",
    "\n",
    "Shown below is the output file obtained after running mbspect."
   ]
  },
  {
   "cell_type": "code",
   "execution_count": 17,
   "metadata": {
    "collapsed": false
   },
   "outputs": [
    {
     "ename": "IndexError",
     "evalue": "list index out of range",
     "output_type": "error",
     "traceback": [
      "\u001b[0;31m---------------------------------------------------------------------------\u001b[0m",
      "\u001b[0;31mIndexError\u001b[0m                                Traceback (most recent call last)",
      "\u001b[0;32m<ipython-input-17-264d857b9088>\u001b[0m in \u001b[0;36m<module>\u001b[0;34m()\u001b[0m\n\u001b[1;32m      3\u001b[0m     \u001b[0mj\u001b[0m\u001b[0;34m=\u001b[0m\u001b[0mline\u001b[0m\u001b[0;34m.\u001b[0m\u001b[0msplit\u001b[0m\u001b[0;34m(\u001b[0m\u001b[0;34m'\\n'\u001b[0m\u001b[0;34m)\u001b[0m\u001b[0;34m\u001b[0m\u001b[0m\n\u001b[1;32m      4\u001b[0m     \u001b[0mjj\u001b[0m\u001b[0;34m=\u001b[0m\u001b[0mj\u001b[0m\u001b[0;34m[\u001b[0m\u001b[0;36m0\u001b[0m\u001b[0;34m]\u001b[0m\u001b[0;34m.\u001b[0m\u001b[0msplit\u001b[0m\u001b[0;34m(\u001b[0m\u001b[0;34m'   '\u001b[0m\u001b[0;34m)\u001b[0m\u001b[0;34m\u001b[0m\u001b[0m\n\u001b[0;32m----> 5\u001b[0;31m     \u001b[0mvel\u001b[0m\u001b[0;34m.\u001b[0m\u001b[0mappend\u001b[0m\u001b[0;34m(\u001b[0m\u001b[0mfloat\u001b[0m\u001b[0;34m(\u001b[0m\u001b[0mjj\u001b[0m\u001b[0;34m[\u001b[0m\u001b[0;36m1\u001b[0m\u001b[0;34m]\u001b[0m\u001b[0;34m)\u001b[0m\u001b[0;34m)\u001b[0m\u001b[0;34m\u001b[0m\u001b[0m\n\u001b[0m\u001b[1;32m      6\u001b[0m     \u001b[0mflux\u001b[0m\u001b[0;34m.\u001b[0m\u001b[0mappend\u001b[0m\u001b[0;34m(\u001b[0m\u001b[0mfloat\u001b[0m\u001b[0;34m(\u001b[0m\u001b[0mjj\u001b[0m\u001b[0;34m[\u001b[0m\u001b[0;36m2\u001b[0m\u001b[0;34m]\u001b[0m\u001b[0;34m)\u001b[0m\u001b[0;34m*\u001b[0m\u001b[0;36m1e3\u001b[0m\u001b[0;34m)\u001b[0m\u001b[0;34m\u001b[0m\u001b[0m\n\u001b[1;32m      7\u001b[0m \u001b[0;34m\u001b[0m\u001b[0m\n",
      "\u001b[0;31mIndexError\u001b[0m: list index out of range"
     ]
    }
   ],
   "source": [
    "vel,flux = [],[]\n",
    "for line in data[6:]:\n",
    "    j=line.split('\\n')\n",
    "    jj=j[0].split('   ')\n",
    "    vel.append(float(jj[1]))\n",
    "    flux.append(float(jj[2])*1e3)\n",
    "        \n",
    "plt.plot(vel,flux)\n",
    "plt.xlabel(r\"Velocity   $\\mathrm{\\left[km\\,s^{-1}\\right]}$\",fontsize=12)\n",
    "plt.ylabel(r\"Flux   $\\mathrm{\\left[mJy\\,beam^{-1}\\right]}$\",fontsize=12)\n",
    "plt.show()"
   ]
  },
  {
   "cell_type": "code",
   "execution_count": 7,
   "metadata": {
    "collapsed": false
   },
   "outputs": [
    {
     "name": "stdout",
     "output_type": "stream",
     "text": [
      "#FR   Clipped rms:    0.0002 Jy/b\n",
      "#FN   (  71 out of  100 channels)\n",
      "#     SPECTRAL FITTING\n",
      "#MC   xaxis: VELO\n",
      "#MX   Maximum:      0.004 Jy/b   at   4644.436 km/s\n",
      "#MN   Minimum:      0.000 Jy/b   at   4703.040 km/s\n",
      "#NP   Number of spectral points:    18\n",
      "#SN1  Peak S/N ratio =      18.67\n",
      "#CL   Clipping inside range (   -0.000,    0.000) Jy/b\n",
      "      Moment:         0               1               2\n",
      "#MM                  0.269        4643.730          25.302\n",
      "#SN2  Mean S/N ratio =       7.96\n",
      "      Robust moments: 0               1               2\n",
      "#MR                  0.246        4646.471          16.506\n",
      "      units:        Jy/b km/s       km/s            km/s\n",
      "\n",
      "      Width maximiser:\n",
      "                             50%            20%\n",
      "#MXC  Line centre:        4645.969        4647.508\n",
      "#MXW  Line width:           60.750          87.360\n",
      "      units:                km/s            km/s\n",
      "\n",
      "      Width minimiser:\n",
      "                             50%            20%\n",
      "#MNC  Line centre:        4645.969        4647.508\n",
      "#MNW  Line width:           60.750          87.360\n",
      "      units:                km/s            km/s\n"
     ]
    }
   ],
   "source": [
    "for line in n:\n",
    "    print line"
   ]
  },
  {
   "cell_type": "markdown",
   "metadata": {},
   "source": [
    "From the output file we tabulate the parameters of interest.  \n",
    "\n",
    "***Note: the galaxy shown above is labelled as number 20 in the tables below.***\n",
    "\n",
    "| No.  | Source id| Peak S/N | Mean S/N | V_50 | V_20| W_50 | W_20 | Flux_intJy|\n",
    "|------|----------|----------|----------|---------|--------|------|------|---------|\n",
    "| | | | |  **km/s **  | **km/s **  | **km/s** | **km/s** | **Jy/beam km/s**|\n",
    "|**1**|**2**|**3**|**4**|**5**|**6**|**7**|**8**|**9**|\n",
    "|0    |  04:45:45.78+44:49:06.1  |  12.56  |    6.75  |     5238.871  |      5213.39  |    107.763  |   183.772 |     0.291  |\n",
    "|1    |  04:46:02.27+44:34:28.0  |  11.46  |    7.36  |     5166.745  |      5174.519 |    75.119   |   101.896 |     0.128  |\n",
    "|2    |  04:46:31.57+45:21:59.5  |  11.25  |    4.19  |     6316.118  |      6318.104 |    47.946   |   81.153  |     0.090  |\n",
    "|3    |  04:46:44.44+44:47:22.7  |  6.73   |    4.13  |     9880.504  |      9892.262 |    159.472  |   206.856 |     0.164  |\n",
    "|** 20.**|**P045026.29+451137.0**|** 18.67** |** 7.96**|**4645.969**|**4647.508** |**60.75**| **87.36** |**0.246**|\n",
    "\n",
    "Table 1 columns:\n",
    "\n",
    "* Column 1: No. of a galaxy.\n",
    "* Column 2: The **source id** of the galaxy is given by it's RA and Dec.\n",
    "* Column 3: Peak signal to noise ratio.\n",
    "* Column 4: Mean signal to noise ratio.\n",
    "* Column 5 & 6: Show sytemic velocity which is the line center of the 50% & 20% linewidths respectively (from width maximiser).\n",
    "* Column 7 & 8:  show the 50% and 20% linewidths respectively (from width maximiser).\n",
    "* Column 9: Shows the integrated flux from the robust moment zero map.\n",
    "\n",
    "\n",
    "From the above table we then generate a secondary table.\n",
    "\n",
    "|NO.  | Id. name | l [deg] | b  [deg]| V_cen [km/s]  |  Vsys [km/s]   |  V_sys err [km/s]     |  W20 [km/s]   |  W50 [km/s]  |  D [Mpc]    |  Flux [Jy km/s] |    HI Mass  |  \n",
    "|--|--|--|--|--|--|--|--|--|--|--|--|\n",
    "|**1**|**2**|**3**|**4**|**5**|**6**|**7**|**8**|**9**|**10**|**11**|**12**|\n",
    "|1  | 04:45:45.78+44:49:06.1|  160.187   |  -0.440 |    5115 |    5171 |    3.887 |    102 |    75  |       74     |      0.01 |        8.22 |         \n",
    "|2  | 04:46:02.27+44:34:28.0|  160.404   |  -0.562 |    6242 |    6317 |    0.993 |    81  |    48  |       90     |      0.007|        8.24 |         \n",
    "|3  | 04:46:31.57+45:21:59.5|  159.857   |   0.018 |    9756 |    9886 |    5.879 |    207 |    159 |       141    |      0.013|        8.89 |         \n",
    "|4  | 04:46:44.44+44:47:22.7|  160.321   |  -0.327 |    5720 |    5801 |    1.096 |    102 |    51  |       83     |      0.011|        8.34 |  \n",
    "|**20 ** | ** 04:50:26.29+45:11:37.0 ** | **160.433**|  **0.433 **|**  4630** |**4647 ** |   ** 0.769** |**     87**  |    ** 61 ** |    **    66   **|  **       0.020**|         **8.41** | \n",
    "\n",
    "\n",
    "Table 2 columns:\n",
    "\n",
    "* Column 1&2 : Are the same as in table 1.\n",
    "* Column 3&4: Shows the galactic latitude and longitude.\n",
    "* Column 5: Shows the velocity of the galaxy that corresponds to the flux centroid.\n",
    "* Column 6: Shows sytemic velocity of the galaxy.  This is derived by taking the average of $V_{20}$ and $V_{50}$ from Table 1. $${ V_{sys} =  \\frac{V_{50} +V_{20}}{2} }$$\n",
    "* Column 7: Shows the error associated with the systemic velocity. $$V_{sys} \\,\\,\\, err\n",
    "= \\sqrt{\\frac{1}{2} \\sum_i\\left( V_i - V_{sys} \\right)^2} \\hspace{2cm}\\mathrm{ for\\,\\,\\, i}=20\\%\\,\\,\\, \\&\\,\\,\\,50\\%$$\n",
    "* Column 8&9: show the 20% and 50% linewidths respectively.\n",
    "* Column 10: Shows the ditance to the galaxy assuming a cosmological constant of $H_0=70\\,\\, \\mathrm{km\\,s^{-1}\\, Mpc^{-1}}$ $$D = \\frac{V_{sys}}{H_0}$$\n",
    "* Column 11: Shows the beam corrected flux. $$ F_{_{int}} = \\mathrm{Flux} \\left(\\frac{4\\log(10)}{\\pi\\,\\theta_\\mathrm{maj} \\times \\theta_\\mathrm{min}} \\right)$$ where **Flux** is from column 9 (Table ).\n",
    "* Column 12: Shows the logarithmic of the HI mass.  \n",
    "\n",
    "$$M_{HI} = 2.36 \\times 10^5 \\left( F_{int} \\times D^2 \\right)$$"
   ]
  },
  {
   "cell_type": "markdown",
   "metadata": {},
   "source": [
    "### Propagation of Uncertainities\n",
    "\n",
    "We already derived the error in systemic velocity.  The next step is to calculate an error associated with HI mass.   \n",
    "\n",
    "\\begin{eqnarray}\n",
    "u(D) &=& D\\left(\\frac{u(V_{sys})}{V_{sys}} \\right)\\\\\\\\\n",
    "u(M_{HI}) &=& M_{HI} \\sqrt{\\left( \\frac{u(F_{int})}{F_{int}} \\right)^2 + \\left( 2\\frac{u(D)}{D} \\right)^2}\n",
    "\\end{eqnarray}\n",
    "\n",
    "***The main issue with this method is that MBSPECT (from miriad) did not return an error associated with $F_{int}$***"
   ]
  },
  {
   "cell_type": "code",
   "execution_count": null,
   "metadata": {
    "collapsed": true
   },
   "outputs": [],
   "source": []
  }
 ],
 "metadata": {
  "kernelspec": {
   "display_name": "Python 2",
   "language": "python",
   "name": "python2"
  },
  "language_info": {
   "codemirror_mode": {
    "name": "ipython",
    "version": 2
   },
   "file_extension": ".py",
   "mimetype": "text/x-python",
   "name": "python",
   "nbconvert_exporter": "python",
   "pygments_lexer": "ipython2",
   "version": "2.7.13"
  }
 },
 "nbformat": 4,
 "nbformat_minor": 2
}
