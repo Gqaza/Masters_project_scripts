{
 "cells": [
  {
   "cell_type": "code",
   "execution_count": 18,
   "metadata": {
    "collapsed": true
   },
   "outputs": [],
   "source": [
    "from astropy.io import fits\n",
    "Dir = '/Volumes/Themba/MSc/Real/'\n",
    "dir2 = '/Volumes/Themba/MSc/SoFiA_Dec/pp'"
   ]
  },
  {
   "cell_type": "code",
   "execution_count": 25,
   "metadata": {
    "collapsed": false
   },
   "outputs": [
    {
     "name": "stdout",
     "output_type": "stream",
     "text": [
      "Busy with =  1\n",
      "Busy with =  2\n"
     ]
    }
   ],
   "source": [
    "for j in range(1,3):\n",
    "    print \"Busy with = \", j\n",
    "    File = 'ppmosALL_'+str(j)+'_kms.fits'\n",
    "    data = fits.getdata(Dir+File)\n",
    "    hdr = fits.getheader(Dir+File)\n",
    "    hdr['cdelt3'] = hdr['cdelt3']*1e3\n",
    "    hdr['crval3'] = hdr['crval3']*1e3\n",
    "    hdr['CUNIT3'] = 'm/s'\n",
    "    hdr['RESTFREQ']=hdr['FREQ0']\n",
    "    hdr['CTYPE3']='VELO-HEL'\n",
    "    hdr.remove(\"FREQ0\")\n",
    "    hdr.remove(\"CUNIT1\")\n",
    "    hdr.remove(\"CUNIT2\")\n",
    "    hdr.remove(\"CUNIT3\")\n",
    "    hdr.remove(\"DTYPE3\")\n",
    "    hdr.remove(\"DUNIT3\")\n",
    "    fits.writeto(dir2+str(j)+'/'+\"ppmos\"+str(j)+\".FITS\",data=data,header=hdr,overwrite=True)\n",
    "    "
   ]
  },
  {
   "cell_type": "code",
   "execution_count": null,
   "metadata": {
    "collapsed": true
   },
   "outputs": [],
   "source": []
  }
 ],
 "metadata": {
  "kernelspec": {
   "display_name": "Python [default]",
   "language": "python",
   "name": "python2"
  },
  "language_info": {
   "codemirror_mode": {
    "name": "ipython",
    "version": 2
   },
   "file_extension": ".py",
   "mimetype": "text/x-python",
   "name": "python",
   "nbconvert_exporter": "python",
   "pygments_lexer": "ipython2",
   "version": "2.7.13"
  }
 },
 "nbformat": 4,
 "nbformat_minor": 2
}
