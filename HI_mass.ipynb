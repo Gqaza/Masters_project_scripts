{
 "cells": [
  {
   "cell_type": "code",
   "execution_count": 1,
   "metadata": {
    "collapsed": false
   },
   "outputs": [
    {
     "name": "stderr",
     "output_type": "stream",
     "text": [
      "WARNING: VerifyWarning: Invalid 'BLANK' keyword in header.  The 'BLANK' keyword is only applicable to integer data, and will be ignored in this HDU. [astropy.io.fits.hdu.image]\n"
     ]
    }
   ],
   "source": [
    "from numpy import std,mean,pi,log\n",
    "from astropy.io import fits\n",
    "hdr  = fits.getheader(\"/media/themba/c18d84e6-53eb-44c6-be34-18234c64ea16/MSc/ppmos1/Results/linewidths/P_150:11:360.fits\")\n"
   ]
  },
  {
   "cell_type": "code",
   "execution_count": 2,
   "metadata": {
    "collapsed": false
   },
   "outputs": [],
   "source": [
    "BMAJ,BMIN =  hdr[\"BMAJ\"],hdr[\"BMIN\"]\n",
    "dv = hdr[\"cdelt3\"]*1e-3      # channel width in km/s\n",
    "cdelt = abs(hdr[\"cdelt1\"])   # pixel size in rad\n",
    "bmaj = BMAJ / cdelt          # beam major axis in pixels\n",
    "bmin = BMIN / cdelt\n",
    "H0   = 70.                   #km/s /Mpc"
   ]
  },
  {
   "cell_type": "code",
   "execution_count": 3,
   "metadata": {
    "collapsed": false
   },
   "outputs": [],
   "source": [
    "def HI_MASS(v,f):\n",
    "    flux= f * 4.0 * log(2.0) / (pi * bmaj * bmin)  #beam corrected flux [Jy km/s]\n",
    "    d   = v/H0                                     #Distance in Mpc\n",
    "    hi_mass = 2.36e+5*f* d**2\n",
    "    HI_mass = log(hi_mass) / log(10.0)\n",
    "    return (int(round(d)),round(flux,3),round(HI_mass,2)) #returns: distance,beam_correctd flux\n",
    "                                                          #and log(HI mass)"
   ]
  },
  {
   "cell_type": "code",
   "execution_count": 4,
   "metadata": {
    "collapsed": false
   },
   "outputs": [],
   "source": [
    "dir1  = '/media/themba/c18d84e6-53eb-44c6-be34-18234c64ea16/MSc/ppmos6/Results/linewidths/'\n",
    "file0 = open(dir1+\"mbspect_pp6\",\"r\").readlines()\n",
    "file1 = open(dir1+\"PP6_table\",\"w\")\n",
    "file1.write(\"NO.    Id. name    Vel  err  W20   W50  Distance   Flux_bc    HI Mass  \\n\")\n",
    "cube_names = []\n",
    "\n",
    "for line in file0[2:]:\n",
    "    data   = line.split()\n",
    "    flux   = float(data[-1])\n",
    "    w20    = float(data[-2])\n",
    "    w50    = float(data[-3])\n",
    "    vel20  = float(data[-4])\n",
    "    vel50  = float(data[-5])  \n",
    "    vel    = mean([vel20,vel50])\n",
    "    vel_err=std([vel20,vel50])\n",
    "    #print int(round(vel50)),\"   \",int(round(vel20)),\"   \",int(round(vel)),round(vel_err,3),\"   \"\"   \",int(round(w50)),\"   \",int(round(w20)),\"  \",round(flux,3)\n",
    "    d,f,mass= HI_MASS(vel,flux)\n",
    "    file1.write(data[0]+\"  \"+data[1]+\"  \"+str(int(round(vel)))+\"  \"+str(round(vel_err,3))+\"  \"+str(int(round(w20)))+\"  \"+str(int(round(w50)))+\"  \"+str(d)+\"   \"+str(f)+\"   \"+str(mass)+\"\\n\")\n",
    "    \n",
    "file1.close()\n",
    "    "
   ]
  },
  {
   "cell_type": "code",
   "execution_count": 3,
   "metadata": {
    "collapsed": false
   },
   "outputs": [
    {
     "data": {
      "text/plain": [
       "0.055625217559466256"
      ]
     },
     "execution_count": 3,
     "metadata": {},
     "output_type": "execute_result"
    }
   ],
   "source": [
    "(3.887/5171)*74"
   ]
  },
  {
   "cell_type": "code",
   "execution_count": null,
   "metadata": {
    "collapsed": true
   },
   "outputs": [],
   "source": []
  }
 ],
 "metadata": {
  "kernelspec": {
   "display_name": "Python [conda root]",
   "language": "python",
   "name": "conda-root-py"
  },
  "language_info": {
   "codemirror_mode": {
    "name": "ipython",
    "version": 2
   },
   "file_extension": ".py",
   "mimetype": "text/x-python",
   "name": "python",
   "nbconvert_exporter": "python",
   "pygments_lexer": "ipython2",
   "version": "2.7.13"
  }
 },
 "nbformat": 4,
 "nbformat_minor": 2
}
