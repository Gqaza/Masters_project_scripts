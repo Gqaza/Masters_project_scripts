{
 "cells": [
  {
   "cell_type": "markdown",
   "metadata": {},
   "source": [
    "### Uncertainities associated with measured HI parameters\n",
    "\n",
    "* Sytemic velocity: $V_{_{sys}}$\n",
    "* Peak flux: $S_{_{peak}}$\n",
    "* Integrated flux: $S_{_{int}}$\n",
    "* Line widths: $W_{_{20}}$ and $W_{_{50}}$\n",
    "\n",
    "#### 1.1 Jonga\n",
    "\n",
    "\\begin{eqnarray}\n",
    "u \\left( S_{_{peak}} \\right) &=& \\sqrt{\\sigma^2_{_{rms}} + \\left(\\frac{S_{_{peak}}}{20} \\right)^2}\\hspace{4.7cm} \\mathrm{(Barnes \\, et \\, al.\\, 2001)}\\\\\\\\\n",
    "u(S_{_{int}}) &=&\\left(\\frac{4}{SN}\\right) \\sqrt{\\left(S_{_{peak}}S_{_{int}}\\right) \\delta v}\\hspace{3.5cm} \\mathrm{(Koribalski\\, et \\, al.\\,  2004)}\\\\\\\\\n",
    "u(V_{_{sys}})&=& \\left(\\frac{3}{SN}\\right) \\sqrt{\\left(\\frac{W_{_{20}}-W_{_{50}}}{2}\\right) \\delta v} \\hspace{2.5cm} \\mathrm{(Koribalski\\, et \\, al.\\,  2004)}\\\\\\\\\n",
    "u(W_{_{20}}) &=& 3 u(V_{_{sys}}) \\,\\,\\,\\,\\,\\& \\,\\,\\,\\,\\, u(W_{_{50}})= 4 u(V_{_{sys}})  \\hspace{2cm} \\mathrm{(Schneider \\,et\\, al.\\, 1986)}\\\\\\\\\n",
    "\\end{eqnarray}"
   ]
  },
  {
   "cell_type": "code",
   "execution_count": 1,
   "metadata": {
    "collapsed": false
   },
   "outputs": [
    {
     "name": "stderr",
     "output_type": "stream",
     "text": [
      "WARNING: VerifyWarning: Invalid 'BLANK' keyword in header.  The 'BLANK' keyword is only applicable to integer data, and will be ignored in this HDU. [astropy.io.fits.hdu.image]\n"
     ]
    }
   ],
   "source": [
    "from numpy import std,mean,pi,log,sqrt\n",
    "from astropy.io import fits\n",
    "hdr  = fits.getheader(\"/Volumes/THEMBA/Real/ppmos1/P_709:165:563.fits\")\n"
   ]
  },
  {
   "cell_type": "code",
   "execution_count": 4,
   "metadata": {
    "collapsed": false
   },
   "outputs": [],
   "source": [
    "BMAJ,BMIN =  hdr[\"BMAJ\"],hdr[\"BMIN\"]\n",
    "dv = hdr[\"cdelt3\"]*1e-3      # channel width in km/s\n",
    "cdelt = abs(hdr[\"cdelt1\"])   # pixel size in rad\n",
    "bmaj = BMAJ / cdelt          # beam major axis in pixels\n",
    "bmin = BMIN / cdelt\n",
    "H0   = 70.                   #km/s /Mpc\n",
    "beam_area=4.0 * log(2.0) / (pi * bmaj * bmin)"
   ]
  },
  {
   "cell_type": "code",
   "execution_count": 5,
   "metadata": {
    "collapsed": false
   },
   "outputs": [],
   "source": [
    "def HI_MASS(v,f):\n",
    "    flux= f *beam_area  #beam corrected flux [Jy km/s]\n",
    "    d   = v/H0                                     #Distance in Mpc\n",
    "    hi_mass = 2.36e+5*f* d**2\n",
    "    HI_mass = log(hi_mass) / log(10.0)\n",
    "    return (int(round(d)),round(flux,3),round(HI_mass,2)) #returns: distance,beam_correctd flux\n",
    "                                                          #and log(HI mass)"
   ]
  },
  {
   "cell_type": "code",
   "execution_count": 162,
   "metadata": {
    "collapsed": false
   },
   "outputs": [],
   "source": [
    "def U_Speak(sigma,S_peak):\n",
    "    x = sqrt(sigma**2 + (S_peak/20.)**2)\n",
    "    return x\n",
    "\n",
    "def U_Fint(SN,S_peak,S_int):\n",
    "    x = (4./SN)*sqrt(S_peak*S_int*dv)\n",
    "    return x\n",
    "\n",
    "def U_Vsys(SN,w20,w50):\n",
    "    x = (3./SN)*sqrt(dv*(w20-w50)/2.)\n",
    "    return x     #units: km/s\n",
    "\n",
    "def peak(name):\n",
    "    demi = open(dir1+'linewidths/'+name+'.txt','r').readlines()\n",
    "    f    = []\n",
    "    for x in demi[6:]:\n",
    "        d = x.split()\n",
    "        e = float(d[-1])\n",
    "        f.append(e)\n",
    "    return (max(f),sum(f))  #units: Jy/beam\n"
   ]
  },
  {
   "cell_type": "code",
   "execution_count": 151,
   "metadata": {
    "collapsed": false
   },
   "outputs": [],
   "source": [
    "t=3\n",
    "dir1  = \"/Volumes/THEMBA/Real/ppmos\"+str(t)+\"/\"\n",
    "file0 = open(dir1+\"pp\"+str(t)+\"_Raw\",\"r\").readlines()\n",
    "#file1 = open(dir1+\"pp\"+str(t)+\"_Table\",\"w\")\n",
    "#file1.write(\"NO.    Id. name          Vel        W20       W50       Distance      F_peak      Flux_bc    HI Mass  \\n\")\n",
    "cube_names = []\n",
    "\n",
    "for line in file0[1:]:\n",
    "    data   = line.split()\n",
    "    flux   = float(data[8])\n",
    "    w20    = float(data[7])\n",
    "    w50    = float(data[6])\n",
    "    #vel20  = float(data[5])\n",
    "    vel    = float(data[4]) \n",
    "    SN     = float(data[2]) \n",
    "    d,f,mass= HI_MASS(vel,flux)\n",
    "    cube_names.append(data[1])\n",
    "#    pk     = peak(data[0])*1e3\n",
    "#    file1.write(data[0]+\"     \"+data[1]+\"     \"+str(int(round(vel)))+\"     \"+str(int(round(w20)))+\"     \"\n",
    "#                +str(int(round(w50)))+\"      \"+str(d)+\"      \"+str(round(pk,3))+\"      \"+str(round(f*1e3,3))+\"      \"+str(mass)+\"\\n\")\n",
    "    \n",
    "#file1.close()\n",
    "    "
   ]
  },
  {
   "cell_type": "code",
   "execution_count": 8,
   "metadata": {
    "collapsed": false
   },
   "outputs": [],
   "source": [
    "#vel,U_Vsys(SN,w20,w50)\n",
    "#pk,U_Speak(0.4,pk)\n",
    "#U_Fint(SN,pk*1e3,flux)\n",
    "#flux"
   ]
  },
  {
   "cell_type": "code",
   "execution_count": 175,
   "metadata": {
    "collapsed": false
   },
   "outputs": [
    {
     "name": "stdout",
     "output_type": "stream",
     "text": [
      "P_115175299\n"
     ]
    },
    {
     "data": {
      "text/plain": [
       "0.025723892167567597"
      ]
     },
     "execution_count": 175,
     "metadata": {},
     "output_type": "execute_result"
    }
   ],
   "source": [
    "print name\n",
    "name=cube_names[0]\n",
    "pk,f_int=peak(name)\n",
    "f_int*dv*beam_area"
   ]
  },
  {
   "cell_type": "code",
   "execution_count": 56,
   "metadata": {
    "collapsed": false
   },
   "outputs": [],
   "source": [
    "dir3   = dir1+\"linewidths/backup/\"\n",
    "hdu    =fits.open(\"/Volumes/THEMBA/Real/ppmos1/P_709:165:563.fits\")\n",
    "data   = hdu[0].data\n",
    "header = hdu[0].header"
   ]
  },
  {
   "cell_type": "code",
   "execution_count": 101,
   "metadata": {
    "collapsed": false
   },
   "outputs": [
    {
     "data": {
      "text/plain": [
       "1.3588862826630217"
      ]
     },
     "execution_count": 101,
     "metadata": {},
     "output_type": "execute_result"
    }
   ],
   "source": [
    "import numpy as np\n",
    "use = np.where(data>=2.87*0.4e-3)\n",
    "data_inU = data[use]\n",
    "(sum(data_inU)/11.6)*8.24"
   ]
  },
  {
   "cell_type": "code",
   "execution_count": 103,
   "metadata": {
    "collapsed": false
   },
   "outputs": [
    {
     "data": {
      "text/plain": [
       "array([ 0.00126773,  0.00116618,  0.00131473, ...,  0.00115911,\n",
       "        0.00127017,  0.00125239], dtype=float32)"
      ]
     },
     "execution_count": 103,
     "metadata": {},
     "output_type": "execute_result"
    }
   ],
   "source": [
    "data_inU"
   ]
  },
  {
   "cell_type": "code",
   "execution_count": 126,
   "metadata": {
    "collapsed": false
   },
   "outputs": [],
   "source": [
    "ba=((pi/(4.*log(2)))*(23*16/6**2))"
   ]
  },
  {
   "cell_type": "code",
   "execution_count": 127,
   "metadata": {
    "collapsed": false
   },
   "outputs": [
    {
     "data": {
      "text/plain": [
       "0.081858066194635967"
      ]
     },
     "execution_count": 127,
     "metadata": {},
     "output_type": "execute_result"
    }
   ],
   "source": [
    "beam_area"
   ]
  },
  {
   "cell_type": "code",
   "execution_count": 165,
   "metadata": {
    "collapsed": false
   },
   "outputs": [
    {
     "data": {
      "text/plain": [
       "11.330900354567985"
      ]
     },
     "execution_count": 165,
     "metadata": {},
     "output_type": "execute_result"
    }
   ],
   "source": []
  },
  {
   "cell_type": "code",
   "execution_count": 138,
   "metadata": {
    "collapsed": true
   },
   "outputs": [],
   "source": [
    "from astropy import units as u"
   ]
  },
  {
   "cell_type": "code",
   "execution_count": 140,
   "metadata": {
    "collapsed": false
   },
   "outputs": [
    {
     "data": {
      "text/latex": [
       "$0.0044444444 \\; \\mathrm{{}^{\\circ}}$"
      ],
      "text/plain": [
       "<Quantity 0.0044444444444444444 deg>"
      ]
     },
     "execution_count": 140,
     "metadata": {},
     "output_type": "execute_result"
    }
   ],
   "source": [
    "a,b = 23*u.arcsec,16*u.arcsec\n",
    "b.to(u.deg)"
   ]
  }
 ],
 "metadata": {
  "kernelspec": {
   "display_name": "Python 2",
   "language": "python",
   "name": "python2"
  },
  "language_info": {
   "codemirror_mode": {
    "name": "ipython",
    "version": 2
   },
   "file_extension": ".py",
   "mimetype": "text/x-python",
   "name": "python",
   "nbconvert_exporter": "python",
   "pygments_lexer": "ipython2",
   "version": "2.7.13"
  }
 },
 "nbformat": 4,
 "nbformat_minor": 2
}
