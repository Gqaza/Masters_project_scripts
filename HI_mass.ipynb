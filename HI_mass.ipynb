{
 "cells": [
  {
   "cell_type": "markdown",
   "metadata": {},
   "source": [
    "### Uncertainities associated with measured HI parameters\n",
    "\n",
    "* Sytemic velocity: $V_{_{sys}}$\n",
    "* Peak flux: $S_{_{peak}}$\n",
    "* Integrated flux: $S_{_{int}}$\n",
    "* Line widths: $W_{_{20}}$ and $W_{_{50}}$\n",
    "\n",
    "#### 1.1 Jonga\n",
    "\n",
    "\\begin{eqnarray}\n",
    "u \\left( S_{_{peak}} \\right) &=& \\sqrt{\\sigma^2_{_{rms}} + \\left(\\frac{S_{_{peak}}}{20} \\right)^2}\\hspace{4.7cm} \\mathrm{(Barnes \\, et \\, al.\\, 2001)}\\\\\\\\\n",
    "u(S_{_{int}}) &=&\\left(\\frac{4}{SN}\\right) \\sqrt{\\left(S_{_{peak}}S_{_{int}}\\right) \\delta v}\\hspace{3.5cm} \\mathrm{(Koribalski\\, et \\, al.\\,  2004)}\\\\\\\\\n",
    "u(V_{_{sys}})&=& \\left(\\frac{3}{SN}\\right) \\sqrt{\\left(\\frac{W_{_{20}}-W_{_{50}}}{2}\\right) \\delta v} \\hspace{2.5cm} \\mathrm{(Koribalski\\, et \\, al.\\,  2004)}\\\\\\\\\n",
    "u(W_{_{20}}) &=& 3 u(V_{_{sys}}) \\,\\,\\,\\,\\,\\& \\,\\,\\,\\,\\, u(W_{_{50}})= 4 u(V_{_{sys}})  \\hspace{2cm} \\mathrm{(Schneider \\,et\\, al.\\, 1986)}\\\\\\\\\n",
    "\\end{eqnarray}"
   ]
  },
  {
   "cell_type": "code",
   "execution_count": 3,
   "metadata": {
    "collapsed": false
   },
   "outputs": [
    {
     "name": "stderr",
     "output_type": "stream",
     "text": [
      "WARNING: VerifyWarning: Invalid value for 'BLANK' keyword in header: 0.0 The 'BLANK' keyword must be an integer.  It will be ignored in the meantime. [astropy.io.fits.hdu.image]\n",
      "WARNING: VerifyWarning: Invalid 'BLANK' keyword in header.  The 'BLANK' keyword is only applicable to integer data, and will be ignored in this HDU. [astropy.io.fits.hdu.image]\n"
     ]
    }
   ],
   "source": [
    "from numpy import std,mean,pi,log,sqrt,log10\n",
    "from astropy.io import fits\n",
    "hdr  = fits.getheader(\"/Volumes/Themba/MSc/Real/ppmos1/SMOOTH/P_709:165:563_MSKD.fits\")\n"
   ]
  },
  {
   "cell_type": "code",
   "execution_count": 4,
   "metadata": {
    "collapsed": false
   },
   "outputs": [
    {
     "data": {
      "text/plain": [
       "0.11093743296292739"
      ]
     },
     "execution_count": 4,
     "metadata": {},
     "output_type": "execute_result"
    }
   ],
   "source": [
    "BMAJ,BMIN =  hdr[\"BMAJ\"],hdr[\"BMIN\"]\n",
    "dv = hdr[\"cdelt3\"]*1e-3      # channel width in km/s\n",
    "cdelt = abs(hdr[\"cdelt1\"])   # pixel size in rad\n",
    "bmaj =  cdelt /BMAJ         # beam major axis in pixels\n",
    "bmin =  cdelt/BMIN\n",
    "H0   = 70.                   #km/s /Mpc\n",
    "beam_area=(pi * bmaj * bmin)/(4.0 * log(2.0))\n",
    "beam_area"
   ]
  },
  {
   "cell_type": "code",
   "execution_count": 5,
   "metadata": {
    "collapsed": false
   },
   "outputs": [],
   "source": [
    "def HI_MASS(v,f):\n",
    "    #flux= f/beam_area  #beam corrected flux [Jy km/s]\n",
    "    flux= f\n",
    "    d   = v/H0                                     #Distance in Mpc\n",
    "    hi_mass = 2.36e+5*flux* d**2\n",
    "    HI_mass = log10(hi_mass)\n",
    "    return (int(round(d)),round(HI_mass,2)) #returns: distance,beam_correctd flux\n",
    "                                                          #and log(HI mass)"
   ]
  },
  {
   "cell_type": "code",
   "execution_count": 6,
   "metadata": {
    "collapsed": false
   },
   "outputs": [],
   "source": [
    "def U_Speak(sigma,S_peak):\n",
    "    x = sqrt((sigma)**2 + (S_peak/20.)**2)\n",
    "    return x\n",
    "\n",
    "def U_Fint(SN,S_peak,S_int):\n",
    "    x = (4./SN)*sqrt(S_peak*S_int*dv)\n",
    "    return x\n",
    "\n",
    "def U_Vsys(SN,w20,w50):\n",
    "    x = (3./SN)*sqrt(dv*abs(w20-w50)/2.)\n",
    "    return x     #units: km/s"
   ]
  },
  {
   "cell_type": "code",
   "execution_count": 55,
   "metadata": {
    "collapsed": false
   },
   "outputs": [
    {
     "name": "stdout",
     "output_type": "stream",
     "text": [
      "0   208     10.97\n",
      "1   95     10.27\n",
      "2   171     10.81\n",
      "3   98     10.3\n",
      "4   208     11.0\n",
      "5   177     10.84\n",
      "6   213     11.02\n",
      "7   135     10.58\n",
      "8   118     10.47\n",
      "9   201     10.97\n",
      "10   137     10.6\n",
      "11   235     11.09\n",
      "12   179     10.84\n",
      "13   234     11.09\n",
      "14   144     10.65\n",
      "15   47     9.62\n",
      "16   204     10.95\n",
      "17   208     10.97\n",
      "18   126     10.52\n",
      "19   101     10.32\n",
      "20   170     10.8\n",
      "21   199     10.92\n",
      "22   212     10.99\n",
      "23   212     10.97\n",
      "24   153     10.71\n",
      "25   82     10.13\n",
      "26   160     10.7\n",
      "27   68     9.97\n",
      "28   209     10.97\n",
      "29   132     10.55\n",
      "30   82     10.13\n",
      "31   62     9.87\n"
     ]
    }
   ],
   "source": [
    "#t=5\n",
    "k=3\n",
    "dir1  = \"/Volumes/T/MSc/MPATI_ONLY/\"\n",
    "file0 = open(dir1+\"mpati_themba_add\",\"r\").readlines()\n",
    "#file0 = open(dir1+\"ppmos\"+str(k)+\"/Updated\"+str(k)+\"_TABLE\",\"r\").readlines()\n",
    "#file1 = open(dir1+\"sorted1-4U.txt\",\"w\")\n",
    "#file1.write(\"NO.    Id. name          Vel        W20       W50       Distance      F_peak      Flux_bc    HI Mass  \\n\")\n",
    "cube_names = []\n",
    "pp = []\n",
    "i=0\n",
    "for line in file0[:]:\n",
    "    data   = line.split()\n",
    "    flux   = float(data[-1])\n",
    "    #w20    = float(data[9])\n",
    "    #w50    = float(data[12])\n",
    "    #vel20  = float(data[6])\n",
    "    vel    = float(data[7]) \n",
    "    #SN     = float(data[3]) \n",
    "    d,mass= HI_MASS(vel,flux)\n",
    "    print i,' ',d,'   ',mass\n",
    "    pp.append(int(data[1]))\n",
    "    cube_names.append(data[0])\n",
    "    #pk     = float(data[2])\n",
    "    #u_vel = U_Vsys(SN,w20,w50)\n",
    "    #file1.write(data[0]+\"     \"+data[1]+\"     \"+str(int(round(vel)))+' +/- 0'+str(int(round(u_vel)))+\"     \"+str(int(round(w20)))+\" +/- \"+str(int(round(4.*u_vel)))+\"     \"\n",
    "    #            +str(int(round(w50)))+\" +/- \"+str(int(round(3.*u_vel)))+\"      \"+str(d)+\"      \"+str(round(pk*1e3,2))+\" +/- \"+str(round(U_Speak(0.4e-3,pk)*1e3,3))+\"      \"\n",
    "    #            +str(round(flux,2))+\" +/- \"+str(round(U_Fint(SN,pk,flux),2))+\"      \"+str(mass)+\"\\n\"\n",
    "    #           )    \n",
    "    i+=1\n",
    "#file1.close()    "
   ]
  },
  {
   "cell_type": "code",
   "execution_count": 38,
   "metadata": {
    "collapsed": true
   },
   "outputs": [],
   "source": [
    "def Peak(dir1,name):\n",
    "    data = open(dir1+name+'.txt','r').readlines()\n",
    "    flux = []\n",
    "    for line in data[6:]:\n",
    "        j=line.split()[-1]\n",
    "        flux.append(float(j)*1e3)\n",
    "    #data.close()\n",
    "    return max(flux)\n",
    "    data.close()"
   ]
  },
  {
   "cell_type": "code",
   "execution_count": 39,
   "metadata": {
    "collapsed": false
   },
   "outputs": [
    {
     "data": {
      "text/plain": [
       "57.0921"
      ]
     },
     "execution_count": 39,
     "metadata": {},
     "output_type": "execute_result"
    }
   ],
   "source": [
    "Peak(dir1,cube_names[1])"
   ]
  },
  {
   "cell_type": "code",
   "execution_count": 56,
   "metadata": {
    "collapsed": false
   },
   "outputs": [
    {
     "name": "stdout",
     "output_type": "stream",
     "text": [
      "55.1\n",
      "103.01\n"
     ]
    }
   ],
   "source": [
    "for i in range(5,7):\n",
    "    t = pp[i]\n",
    "    dir1 =\"/Volumes/T/MSc/MPATI_ONLY/pp\"+str(t)+\"/sources/\"\n",
    "    flux = Peak(dir1,cube_names[i])\n",
    "    print round(flux,2)"
   ]
  },
  {
   "cell_type": "code",
   "execution_count": 58,
   "metadata": {
    "collapsed": false
   },
   "outputs": [
    {
     "data": {
      "text/plain": [
       "'P_138:167:1514'"
      ]
     },
     "execution_count": 58,
     "metadata": {},
     "output_type": "execute_result"
    }
   ],
   "source": [
    "cube_names[6]"
   ]
  },
  {
   "cell_type": "code",
   "execution_count": 59,
   "metadata": {
    "collapsed": false
   },
   "outputs": [
    {
     "data": {
      "text/plain": [
       "(207, 9.83)"
      ]
     },
     "execution_count": 59,
     "metadata": {},
     "output_type": "execute_result"
    }
   ],
   "source": [
    "HI_MASS(14521,.672)"
   ]
  },
  {
   "cell_type": "code",
   "execution_count": null,
   "metadata": {
    "collapsed": true
   },
   "outputs": [],
   "source": []
  }
 ],
 "metadata": {
  "kernelspec": {
   "display_name": "Python [default]",
   "language": "python",
   "name": "python2"
  },
  "language_info": {
   "codemirror_mode": {
    "name": "ipython",
    "version": 2
   },
   "file_extension": ".py",
   "mimetype": "text/x-python",
   "name": "python",
   "nbconvert_exporter": "python",
   "pygments_lexer": "ipython2",
   "version": "2.7.13"
  }
 },
 "nbformat": 4,
 "nbformat_minor": 2
}
