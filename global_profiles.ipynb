{
 "cells": [
  {
   "cell_type": "code",
   "execution_count": 2,
   "metadata": {
    "collapsed": false
   },
   "outputs": [],
   "source": [
    "import matplotlib.pyplot as plt\n",
    "import numpy as np\n",
    "get_ipython().magic(u'matplotlib inline')\n"
   ]
  },
  {
   "cell_type": "code",
   "execution_count": 3,
   "metadata": {
    "collapsed": false
   },
   "outputs": [],
   "source": [
    "dir1 = \"/Users/themba/Documents/MSc/Thesis/Data/Artificial/ATC2/\"\n",
    "dir2 = '/media/themba/c18d84e6-53eb-44c6-be34-18234c64ea16/MSc/ppmos9/Results/'\n",
    "dir3 = dir2+'linewidths/'\n",
    "#f = open(dir1+\"original_files\",\"r\")\n",
    "f = open(dir1+\"all_id.txt\",\"r\")\n",
    "cube_names = []\n",
    "for line in f:\n",
    "    x0 = str(line.split()[0])\n",
    "    cube_names.append(str(x0))\n",
    " "
   ]
  },
  {
   "cell_type": "code",
   "execution_count": 4,
   "metadata": {
    "collapsed": false
   },
   "outputs": [
    {
     "data": {
      "image/png": "[encoded data removed]",
      "text/plain": [
       "<matplotlib.figure.Figure at 0x10e056490>"
      ]
     },
     "metadata": {},
     "output_type": "display_data"
    }
   ],
   "source": [
    "n=len(cube_names)\n",
    "for i in range(1):\n",
    "    x = cube_names[i]\n",
    "    data = open(dir1+x+'.txt','r').readlines()\n",
    "    \n",
    "    vel,flux = [],[]\n",
    "    for line in data[6:]:\n",
    "        j=line.split('\\n')\n",
    "        jj=j[0].split('   ')\n",
    "        vel.append(float(jj[1]))\n",
    "        flux.append(float(jj[2])*1e3)\n",
    "        \n",
    "    plt.title(x)\n",
    "    plt.plot(vel,flux)\n",
    "    plt.xlabel(r\"Velocity   $\\mathrm{\\left[km\\,s^{-1}\\right]}$\",fontsize=12)\n",
    "    plt.ylabel(r\"Flux   $\\mathrm{\\left[mJy\\,beam^{-1}\\right]}$\",fontsize=12)\n",
    "    plt.axhline(0.0, color='black',linestyle ='dashed',linewidth=0.5)\n",
    "    plt.xlim(min(vel),max(vel))\n",
    "    plt.savefig(dir1+x+\".eps\")\n",
    "    plt.show()"
   ]
  },
  {
   "cell_type": "code",
   "execution_count": 8,
   "metadata": {
    "collapsed": false
   },
   "outputs": [
    {
     "data": {
      "text/plain": [
       "[6, 12, 18, 24, 30, 36, 42, 48, 54, 60, 66]"
      ]
     },
     "execution_count": 8,
     "metadata": {},
     "output_type": "execute_result"
    }
   ],
   "source": [
    "A"
   ]
  },
  {
   "cell_type": "code",
   "execution_count": 21,
   "metadata": {
    "collapsed": false
   },
   "outputs": [
    {
     "name": "stdout",
     "output_type": "stream",
     "text": [
      "\begin{figure}\n",
      "\\includegraphics[width=6.5cm,height=5.5cm]{P_327:542:30.eps}\n",
      "\\includegraphics[width=6.0cm,height=4.9cm]{P_327:542:30.png}\n",
      "\\includegraphics[width=6.5cm,height=5.5cm]{P_311:314:26.eps}\n",
      "\\includegraphics[width=6.0cm,height=4.9cm]{P_311:314:26.png}\n",
      "\\includegraphics[width=6.5cm,height=5.5cm]{P_266:478:41.eps}\n",
      "\\includegraphics[width=6.0cm,height=4.9cm]{P_266:478:41.png}\n",
      "\\includegraphics[width=6.5cm,height=5.5cm]{P_225:325:63.eps}\n",
      "\\includegraphics[width=6.0cm,height=4.9cm]{P_225:325:63.png}\n",
      "\\includegraphics[width=6.5cm,height=5.5cm]{P_200:598:89.eps}\n",
      "\\includegraphics[width=6.0cm,height=4.9cm]{P_200:598:89.png}\n",
      "\\includegraphics[width=6.5cm,height=5.5cm]{P_103:92:43.eps}\n",
      "\\includegraphics[width=6.0cm,height=4.9cm]{P_103:92:43.png}\n",
      "\\end{figure}\n"
     ]
    }
   ],
   "source": [
    "amagama = open(dir1+'all_id.txt','r').readlines()\n",
    "n = len(amagama)\n",
    "\n",
    "print '\\begin{figure}'\n",
    "for i in range(60,66):\n",
    "    igama   = amagama[i].split()[0]\n",
    "    print \"\\includegraphics[width=6.5cm,height=5.5cm]{\"+igama+\".eps}\"\n",
    "    print \"\\includegraphics[width=6.0cm,height=4.9cm]{\"+igama+\".png}\"\n",
    "print \"\\end{figure}\"    \n"
   ]
  },
  {
   "cell_type": "code",
   "execution_count": 7,
   "metadata": {
    "collapsed": false
   },
   "outputs": [],
   "source": [
    "x = 6\n",
    "A = []\n",
    "while x <=n:\n",
    "    A.append(x)\n",
    "    x=x+6"
   ]
  },
  {
   "cell_type": "code",
   "execution_count": null,
   "metadata": {
    "collapsed": true
   },
   "outputs": [],
   "source": []
  }
 ],
 "metadata": {
  "kernelspec": {
   "display_name": "Python 2",
   "language": "python",
   "name": "python2"
  },
  "language_info": {
   "codemirror_mode": {
    "name": "ipython",
    "version": 2
   },
   "file_extension": ".py",
   "mimetype": "text/x-python",
   "name": "python",
   "nbconvert_exporter": "python",
   "pygments_lexer": "ipython2",
   "version": "2.7.13"
  }
 },
 "nbformat": 4,
 "nbformat_minor": 2
}
