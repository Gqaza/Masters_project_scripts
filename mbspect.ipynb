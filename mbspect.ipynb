{
 "cells": [
  {
   "cell_type": "code",
   "execution_count": 1,
   "metadata": {
    "collapsed": false
   },
   "outputs": [],
   "source": [
    "from mirpy import miriad\n",
    "from astropy.io import fits\n",
    "from numpy import log,pi,log10\n",
    "from astropy import units as u\n",
    "import numpy as np\n",
    "import matplotlib.pylab as plt"
   ]
  },
  {
   "cell_type": "code",
   "execution_count": 2,
   "metadata": {
    "collapsed": false,
    "scrolled": true
   },
   "outputs": [],
   "source": [
    "#for j in range(1,2):\n",
    "#    dir1 = \"/Volumes/Themba/Real/ppmos\"+str(j)+\"/\"\n",
    "#    dir3 = dir1+\"linewidths/\"\n",
    "#    f = open(dir1+\"pp\"+str(j)+\"_Raw\",\"r\").readlines() \n",
    "#    #f = open(dir1+\"original_files\",\"r\").readlines()\n",
    "#    cube_names = []\n",
    "#    No,Id = [],[]\n",
    "#    mask_a,mask_b = [],[]\n",
    "#    #print \"j=\",j\n",
    "#    for line in f[:]:\n",
    "#        x    = line.split()\n",
    "#        name = x[1]\n",
    "#        #name = x[0]\n",
    "#        ID   = x[2]\n",
    "#        No.append(x[0])\n",
    "#        Id.append(ID)\n",
    "#        mask_a.append(float(x[-3]))\n",
    "#        mask_b.append(float(x[-1]))\n",
    "#        cube_names.append(name)\n",
    "#        #cube_names.append(x[0])\n",
    "#        #miriad.fits(In=dir3+name+'.fits',op='xyin',out=dir3+name+'.mir')"
   ]
  },
  {
   "cell_type": "code",
   "execution_count": 18,
   "metadata": {
    "collapsed": false
   },
   "outputs": [],
   "source": [
    "dir11 = '/Volumes/Themba/MSc/Real/ppmos1/SMOOTH/'\n",
    "dir3 = '../Write_up/Thesis/Figures/'"
   ]
  },
  {
   "cell_type": "code",
   "execution_count": 47,
   "metadata": {
    "collapsed": false,
    "scrolled": false
   },
   "outputs": [
    {
     "name": "stdout",
     "output_type": "stream",
     "text": [
      "if happy enter 1, else 0:1\n"
     ]
    },
    {
     "data": {
      "text/plain": [
       "['#FR   Clipped rms:    0.0014 Jy',\n",
       " '#FN   ( 108 out of  160 channels)',\n",
       " '#     SPECTRAL FITTING',\n",
       " '#MC   xaxis: FELO',\n",
       " '#MX   Maximum:      0.008 Jy   at   7200.652 km/s',\n",
       " '#MN   Minimum:     -0.003 Jy   at   6952.003 km/s',\n",
       " '#NP   Number of spectral points:    40',\n",
       " '#SN1  Peak S/N ratio =       5.74',\n",
       " '#CL   Clipping inside range (   -0.000,    0.000) Jy',\n",
       " '      Moment:         0               1               2',\n",
       " '#MM                  1.144        7122.821          76.972',\n",
       " '#SN2  Mean S/N ratio =       2.53',\n",
       " '      Robust moments: 0               1               2',\n",
       " '#MR                  1.172        7132.774          71.800',\n",
       " '      units:        Jy km/s         km/s            km/s',\n",
       " '',\n",
       " '      Width maximiser:',\n",
       " '                             50%            20%',\n",
       " '#MXC  Line centre:        7126.390        7109.469',\n",
       " '#MXW  Line width:          231.974         284.958',\n",
       " '      units:                km/s            km/s',\n",
       " '',\n",
       " '      Width minimiser:',\n",
       " '                             50%            20%',\n",
       " '#MNC  Line centre:        7197.972        7109.469',\n",
       " '#MNW  Line width:           88.811         284.958',\n",
       " '      units:                km/s            km/s']"
      ]
     },
     "execution_count": 47,
     "metadata": {},
     "output_type": "execute_result"
    }
   ],
   "source": [
    "i=1\n",
    "x = 'P_709:165:563'  #cube_names[i]\n",
    "test = dir11+x+'_smooth.mir'\n",
    "Mask = (6950,7280)#(mask_a[i]+40,mask_b[i])\n",
    "width=(23,23)\n",
    "odr = 2\n",
    "h=3\n",
    "xran = (Mask[0]-500,Mask[1]+500)\n",
    "comments = 'J045811.74+460226.5'\n",
    "#coord = (\"04:58:00.24\",\"46:28:24.41\")\n",
    "\n",
    "m=miriad.mbspect(In=test,hann=h,order=odr,clip=0.0,width=width,mask=Mask,profile=Mask,yaxis='integrated',xrange=xran\n",
    "                 ,options=(\"pstyle2\",\"measure\"),device=\"/xs\",csize=1.8,lines=2,comment=comments)\n",
    "n = m.split('\\n')\n",
    "    \n",
    "status = input(\"if happy enter 1, else 0:\")\n",
    "if status == 1:\n",
    "    #xran = (Mask[0]-400,Mask[1]+400)\n",
    "    miriad.mbspect(In=test,hann=h,order=odr,clip=0.0,width=width,mask=Mask,profile=Mask,yaxis='integrated',xrange=xran,\n",
    "          options=(\"pstyle2\",\"measure\"),device=(dir3+\"Global23.eps/cps\"),comment=comments)\n",
    "    #File = open(dir3+'Data_'+x+'.txt','w')\n",
    "    #File.write(m)\n",
    "    #File.write(\"\\n#Mask = \"+str(Mask))\n",
    "    #File.close()\n",
    "else: \n",
    "    pass \n",
    "n"
   ]
  },
  {
   "cell_type": "code",
   "execution_count": 18,
   "metadata": {
    "collapsed": false
   },
   "outputs": [],
   "source": [
    "h1=fits.getheader('/Volumes/THEMBA/Real/ppmos1/SMOOTH/P_247:264:870_msk.fits')\n",
    "da=fits.getdata('/Volumes/THEMBA/Real/ppmos1/SMOOTH/P_247:264:870_msk.fits')"
   ]
  }
 ],
 "metadata": {
  "kernelspec": {
   "display_name": "Python [default]",
   "language": "python",
   "name": "python2"
  },
  "language_info": {
   "codemirror_mode": {
    "name": "ipython",
    "version": 2
   },
   "file_extension": ".py",
   "mimetype": "text/x-python",
   "name": "python",
   "nbconvert_exporter": "python",
   "pygments_lexer": "ipython2",
   "version": "2.7.13"
  }
 },
 "nbformat": 4,
 "nbformat_minor": 2
}
