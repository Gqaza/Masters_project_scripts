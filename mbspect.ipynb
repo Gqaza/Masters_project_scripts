{
 "cells": [
  {
   "cell_type": "code",
   "execution_count": 2,
   "metadata": {
    "collapsed": false
   },
   "outputs": [
    {
     "ename": "ImportError",
     "evalue": "No module named mirpy",
     "output_type": "error",
     "traceback": [
      "\u001b[0;31m---------------------------------------------------------------------------\u001b[0m",
      "\u001b[0;31mImportError\u001b[0m                               Traceback (most recent call last)",
      "\u001b[0;32m<ipython-input-2-fd45fd0ec858>\u001b[0m in \u001b[0;36m<module>\u001b[0;34m()\u001b[0m\n\u001b[0;32m----> 1\u001b[0;31m \u001b[0;32mfrom\u001b[0m \u001b[0mmirpy\u001b[0m \u001b[0;32mimport\u001b[0m \u001b[0mmiriad\u001b[0m\u001b[0;34m\u001b[0m\u001b[0m\n\u001b[0m\u001b[1;32m      2\u001b[0m \u001b[0;32mfrom\u001b[0m \u001b[0mastropy\u001b[0m\u001b[0;34m.\u001b[0m\u001b[0mio\u001b[0m \u001b[0;32mimport\u001b[0m \u001b[0mfits\u001b[0m\u001b[0;34m\u001b[0m\u001b[0m\n",
      "\u001b[0;31mImportError\u001b[0m: No module named mirpy"
     ]
    }
   ],
   "source": [
    "from mirpy import miriad\n",
    "from astropy.io import fits\n"
   ]
  },
  {
   "cell_type": "code",
   "execution_count": 2,
   "metadata": {
    "collapsed": false,
    "scrolled": true
   },
   "outputs": [],
   "source": [
    "dir1 = \"/home/themba/Documents/MSc/Thesis/catalogue/ppmos6/Update/\"\n",
    "dir2 = '/media/themba/c18d84e6-53eb-44c6-be34-18234c64ea16/MSc/ppmos6/Results/'\n",
    "dir3 = dir2+'linewidths/'\n",
    "f = open(dir1+\"original_files\",\"r\")\n",
    "cube_names = []\n",
    "for line in f:\n",
    "    x0 = str(line.split()[0])\n",
    "    x = str(x0)+'.fits'\n",
    "    y = str(x0)+'.mir'\n",
    "    cube_names.append(str(x0))\n",
    "    #print y\n",
    "    #miriad.fits(In=dir2+x,op='xyin',out=dir3+y)"
   ]
  },
  {
   "cell_type": "code",
   "execution_count": 7,
   "metadata": {
    "collapsed": false,
    "scrolled": true
   },
   "outputs": [],
   "source": [
    "i=20\n",
    "x = cube_names[i]\n",
    "test = dir3+x+'.mir' \n",
    "\n",
    "m=miriad.mbspect(In=test,hann='3',order=1,options=\"measure\",mask=(4555,4705),profile=(4555,4705)\n",
    "               ,log =dir3+x+'.txt',device=\"/xs\",comment=x)\n",
    "#n = m.split('\\n')\n",
    "#n"
   ]
  },
  {
   "cell_type": "code",
   "execution_count": 4,
   "metadata": {
    "collapsed": false
   },
   "outputs": [],
   "source": [
    "File = open(dir3+'Data_'+x+'.txt','w')\n",
    "File.write(m)\n",
    "File.close()"
   ]
  },
  {
   "cell_type": "code",
   "execution_count": 3,
   "metadata": {
    "collapsed": true
   },
   "outputs": [],
   "source": [
    "miriad.mbspect?"
   ]
  },
  {
   "cell_type": "code",
   "execution_count": null,
   "metadata": {
    "collapsed": true
   },
   "outputs": [],
   "source": []
  }
 ],
 "metadata": {
  "kernelspec": {
   "display_name": "Python 2",
   "language": "python",
   "name": "python2"
  },
  "language_info": {
   "codemirror_mode": {
    "name": "ipython",
    "version": 2
   },
   "file_extension": ".py",
   "mimetype": "text/x-python",
   "name": "python",
   "nbconvert_exporter": "python",
   "pygments_lexer": "ipython2",
   "version": "2.7.13"
  }
 },
 "nbformat": 4,
 "nbformat_minor": 2
}
