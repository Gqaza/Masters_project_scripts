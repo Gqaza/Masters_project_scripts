{
 "cells": [
  {
   "cell_type": "code",
   "execution_count": 16,
   "metadata": {
    "collapsed": false
   },
   "outputs": [],
   "source": [
    "from mirpy import miriad\n",
    "from astropy.io import fits\n"
   ]
  },
  {
   "cell_type": "code",
   "execution_count": 19,
   "metadata": {
    "collapsed": false,
    "scrolled": true
   },
   "outputs": [],
   "source": [
    "for j in range(1,2):\n",
    "    dir1 = \"/Volumes/THEMBA/Real/ppmos\"+str(j)+\"/\"\n",
    "    dir2 = \"/Volumes/Documents/MSc/Thesis/catalogue/ppmos\"+str(j)+\"/Update/\"\n",
    "    dir3 = dir1+\"linewidths/\"\n",
    "    f = open(dir3+\"pp\"+str(j)+\"_table\",\"r\").readlines() \n",
    "    cube_names = []\n",
    "    No,Id = [],[]\n",
    "    #print \"j=\",j\n",
    "    for line in f[1:]:\n",
    "        x    = line.split()\n",
    "        name = x[1]\n",
    "        ID   = x[2]\n",
    "        No.append(x[0])\n",
    "        #ra,dec = ID.split('+')\n",
    "        Id.append(ID)\n",
    "        cube_names.append(name)\n",
    "        #miriad.fits(In=dir1+name+'.fits',op='xyin',out=dir1+name+'.mir')"
   ]
  },
  {
   "cell_type": "code",
   "execution_count": 23,
   "metadata": {
    "collapsed": false,
    "scrolled": false
   },
   "outputs": [
    {
     "name": "stdout",
     "output_type": "stream",
     "text": [
      "if happy enter 1, else 0:0\n"
     ]
    }
   ],
   "source": [
    "i=10\n",
    "x = cube_names[i]\n",
    "test = dir1+x+'.mir' \n",
    "Mask = (7040,7300)#(7040,7360)\n",
    "\n",
    "m=miriad.mbspect(In=test,hann='3',order=1,options=(\"pstyle2\",\"measure\"),mask=Mask,profile=(Mask[0],Mask[1])\n",
    "               ,device=\"/xs\",comment=Id[i])\n",
    "n = m.split('\\n')\n",
    "\n",
    "    \n",
    "status = input(\"if happy enter 1, else 0:\")\n",
    "if status == 1:\n",
    "    xran = (Mask[0]-600,Mask[1]+600)\n",
    "    miriad.mbspect(In=test,hann='3',order=1,options=(\"pstyle2\",\"measure\"),mask=Mask,profile=(Mask[0],Mask[1])\n",
    "               ,xrange=xran,log=dir3+x+'.txt',device=(dir3+No[i]+\".eps/cps\"),comment=Id[i])\n",
    "    File = open(dir3+'Data_'+x+'.txt','w')\n",
    "    File.write(m)\n",
    "    File.write(\"\\n#Mask = \"+str(Mask))\n",
    "    File.close()\n",
    "else: \n",
    "    pass \n",
    "#n"
   ]
  },
  {
   "cell_type": "code",
   "execution_count": 24,
   "metadata": {
    "collapsed": false
   },
   "outputs": [
    {
     "data": {
      "text/plain": [
       "['#FR   Clipped rms:    0.0002 Jy/b',\n",
       " '#FN   ( 151 out of  200 channels)',\n",
       " '#     SPECTRAL FITTING',\n",
       " '#MC   xaxis: VELO',\n",
       " '#MX   Maximum:      0.002 Jy/b   at   7166.017 km/s',\n",
       " '#MN   Minimum:     -0.000 Jy/b   at   7047.890 km/s',\n",
       " '#NP   Number of spectral points:    30',\n",
       " '#SN1  Peak S/N ratio =       8.44',\n",
       " '#CL   Clipping inside range (   -0.000,    0.000) Jy/b',\n",
       " '      Moment:         0               1               2',\n",
       " '#MM                  0.215        7156.732          36.580',\n",
       " '#SN2  Mean S/N ratio =       3.44',\n",
       " '      Robust moments: 0               1               2',\n",
       " '#MR                  0.202        7154.304          27.345',\n",
       " '      units:        Jy/b km/s       km/s            km/s',\n",
       " '',\n",
       " '      Width maximiser:',\n",
       " '                             50%            20%',\n",
       " '#MXC  Line centre:        7155.249        7158.069',\n",
       " '#MXW  Line width:          106.810         131.528',\n",
       " '      units:                km/s            km/s',\n",
       " '',\n",
       " '      Width minimiser:',\n",
       " '                             50%            20%',\n",
       " '#MNC  Line centre:        7155.249        7158.069',\n",
       " '#MNW  Line width:          106.810         131.528',\n",
       " '      units:                km/s            km/s']"
      ]
     },
     "execution_count": 24,
     "metadata": {},
     "output_type": "execute_result"
    }
   ],
   "source": [
    "n"
   ]
  },
  {
   "cell_type": "code",
   "execution_count": null,
   "metadata": {
    "collapsed": true
   },
   "outputs": [],
   "source": []
  }
 ],
 "metadata": {
  "kernelspec": {
   "display_name": "Python 2",
   "language": "python",
   "name": "python2"
  },
  "language_info": {
   "codemirror_mode": {
    "name": "ipython",
    "version": 2
   },
   "file_extension": ".py",
   "mimetype": "text/x-python",
   "name": "python",
   "nbconvert_exporter": "python",
   "pygments_lexer": "ipython2",
   "version": "2.7.13"
  }
 },
 "nbformat": 4,
 "nbformat_minor": 2
}
